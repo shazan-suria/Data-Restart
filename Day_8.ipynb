{
 "cells": [
  {
   "cell_type": "code",
   "execution_count": 1,
   "id": "d88b26bb-b238-4082-9e93-e457b403abc2",
   "metadata": {},
   "outputs": [],
   "source": [
    "# Data day 8\n",
    "# Polymorphism\n",
    "# Encaplsuation\n",
    "# Inheritance\n",
    "# Abstraction"
   ]
  },
  {
   "cell_type": "code",
   "execution_count": 2,
   "id": "15a0033f-aa24-45c5-9c58-570856e77f7c",
   "metadata": {},
   "outputs": [],
   "source": [
    "# Polymorphism\n",
    "def test(a,b):\n",
    "    return a+b"
   ]
  },
  {
   "cell_type": "code",
   "execution_count": 3,
   "id": "26ea0a8c-9e48-479e-990e-eda143289a0f",
   "metadata": {},
   "outputs": [
    {
     "data": {
      "text/plain": [
       "7"
      ]
     },
     "execution_count": 3,
     "metadata": {},
     "output_type": "execute_result"
    }
   ],
   "source": [
    "test(3,4)"
   ]
  },
  {
   "cell_type": "code",
   "execution_count": 4,
   "id": "57870552-63d2-46c0-9d3e-4f4a527392c6",
   "metadata": {},
   "outputs": [
    {
     "data": {
      "text/plain": [
       "'ShazanSuria'"
      ]
     },
     "execution_count": 4,
     "metadata": {},
     "output_type": "execute_result"
    }
   ],
   "source": [
    "test('Shazan','Suria')"
   ]
  },
  {
   "cell_type": "code",
   "execution_count": 5,
   "id": "1f959c9b-c636-4103-8833-2cbcad946503",
   "metadata": {},
   "outputs": [],
   "source": [
    "class data_science():\n",
    "    def syllabus(self):\n",
    "        print('This is the syllabus for data science')"
   ]
  },
  {
   "cell_type": "code",
   "execution_count": 6,
   "id": "bc89ad64-18d9-4699-b516-0396d6b25c0b",
   "metadata": {},
   "outputs": [],
   "source": [
    "class web_dev():\n",
    "    def syllabus(self):\n",
    "        print('This is the syllabus foe web dev')"
   ]
  },
  {
   "cell_type": "code",
   "execution_count": 7,
   "id": "d5947ebb-665a-49f5-b972-62d189dc3645",
   "metadata": {},
   "outputs": [],
   "source": [
    "def class_parcer(class_obj):\n",
    "    for i in class_obj:\n",
    "        i.syllabus()"
   ]
  },
  {
   "cell_type": "code",
   "execution_count": 8,
   "id": "b529dd35-87a5-49d6-9104-29a0d3dc064c",
   "metadata": {},
   "outputs": [],
   "source": [
    "dt_sci=data_science()"
   ]
  },
  {
   "cell_type": "code",
   "execution_count": 9,
   "id": "51ee3f5f-0f12-48c2-8bd1-48d32eb4003b",
   "metadata": {},
   "outputs": [],
   "source": [
    "web_dev=web_dev()"
   ]
  },
  {
   "cell_type": "code",
   "execution_count": 10,
   "id": "f04f0c5c-c6b9-4600-ac88-032960b38ba7",
   "metadata": {},
   "outputs": [],
   "source": [
    "class_obj=[dt_sci,web_dev]"
   ]
  },
  {
   "cell_type": "code",
   "execution_count": 11,
   "id": "1aaab7e7-a0b9-4af4-bb05-ed4335c53f83",
   "metadata": {},
   "outputs": [
    {
     "name": "stdout",
     "output_type": "stream",
     "text": [
      "This is the syllabus for data science\n",
      "This is the syllabus foe web dev\n"
     ]
    }
   ],
   "source": [
    "class_parcer(class_obj)"
   ]
  },
  {
   "cell_type": "code",
   "execution_count": 12,
   "id": "1bd64ce9-c348-49e8-b6f4-fdc70ca6a89d",
   "metadata": {},
   "outputs": [],
   "source": [
    "# Encapsulation\n",
    "class t1():\n",
    "    \n",
    "    def __init__(self,a,b):\n",
    "        self.a=a\n",
    "        self.b=b"
   ]
  },
  {
   "cell_type": "code",
   "execution_count": 13,
   "id": "ffe7d151-e5f4-4527-8516-24d71b292751",
   "metadata": {},
   "outputs": [],
   "source": [
    "t=t1(233,567)"
   ]
  },
  {
   "cell_type": "code",
   "execution_count": 14,
   "id": "a1af414d-d215-4cde-bf72-5fd635a24190",
   "metadata": {},
   "outputs": [
    {
     "data": {
      "text/plain": [
       "233"
      ]
     },
     "execution_count": 14,
     "metadata": {},
     "output_type": "execute_result"
    }
   ],
   "source": [
    "t.a"
   ]
  },
  {
   "cell_type": "code",
   "execution_count": 15,
   "id": "f2f65114-278f-4685-948c-609d0ccc2038",
   "metadata": {},
   "outputs": [],
   "source": [
    "t.a=647"
   ]
  },
  {
   "cell_type": "code",
   "execution_count": 16,
   "id": "c0a3003c-7c3c-4eb2-b59d-dd2b447a368b",
   "metadata": {},
   "outputs": [
    {
     "data": {
      "text/plain": [
       "647"
      ]
     },
     "execution_count": 16,
     "metadata": {},
     "output_type": "execute_result"
    }
   ],
   "source": [
    "t.a"
   ]
  },
  {
   "cell_type": "code",
   "execution_count": 17,
   "id": "777e606f-3fef-4a90-bf3d-ce6fcd736897",
   "metadata": {},
   "outputs": [],
   "source": [
    "class car:\n",
    "    def __init__(self,year,speed):\n",
    "        self.__year=year\n",
    "        if(speed>=0):\n",
    "            self.__speed=speed\n",
    "        else:\n",
    "            self.__speed=0\n",
    "    def set_speed(self,speed):\n",
    "        self.__speed=0 if speed < 0 else speed\n",
    "        \n",
    "        \n",
    "    def get_speed(self):\n",
    "        return self.__speed"
   ]
  },
  {
   "cell_type": "code",
   "execution_count": 18,
   "id": "dde6a9cb-1613-4ab4-916d-15bb4683ab8f",
   "metadata": {},
   "outputs": [],
   "source": [
    "c=car(2021,-1)"
   ]
  },
  {
   "cell_type": "code",
   "execution_count": 19,
   "id": "9b0f3eed-59ec-46da-83de-105dd5d11102",
   "metadata": {},
   "outputs": [
    {
     "data": {
      "text/plain": [
       "0"
      ]
     },
     "execution_count": 19,
     "metadata": {},
     "output_type": "execute_result"
    }
   ],
   "source": [
    "c._car__speed"
   ]
  },
  {
   "cell_type": "code",
   "execution_count": 20,
   "id": "492709c3-3b96-46c5-b432-4b49469cf424",
   "metadata": {},
   "outputs": [],
   "source": [
    "c.set_speed(10)"
   ]
  },
  {
   "cell_type": "code",
   "execution_count": 21,
   "id": "183a2323-6116-4e14-bf40-342b7cf6a072",
   "metadata": {},
   "outputs": [
    {
     "data": {
      "text/plain": [
       "10"
      ]
     },
     "execution_count": 21,
     "metadata": {},
     "output_type": "execute_result"
    }
   ],
   "source": [
    "c.get_speed()"
   ]
  },
  {
   "cell_type": "code",
   "execution_count": 22,
   "id": "f95fbd5a-1908-4eaf-8e5e-42eb229dc5f4",
   "metadata": {},
   "outputs": [],
   "source": [
    "# Inheritance\n",
    "class test1:\n",
    "    \n",
    "    def p_test(self):\n",
    "        return\"this is my inheritanc\""
   ]
  },
  {
   "cell_type": "code",
   "execution_count": 23,
   "id": "e606106a-bd67-4404-8982-f472b31df3f7",
   "metadata": {},
   "outputs": [],
   "source": [
    "class c_test(test1):\n",
    "    pass"
   ]
  },
  {
   "cell_type": "code",
   "execution_count": 24,
   "id": "a1c0a9c3-c923-4420-a177-e98d976cca5a",
   "metadata": {},
   "outputs": [],
   "source": [
    "c_test_obj=c_test()"
   ]
  },
  {
   "cell_type": "code",
   "execution_count": 25,
   "id": "4fa8a1ac-35f7-43dd-9a7f-93ad540a275e",
   "metadata": {},
   "outputs": [
    {
     "data": {
      "text/plain": [
       "'this is my inheritanc'"
      ]
     },
     "execution_count": 25,
     "metadata": {},
     "output_type": "execute_result"
    }
   ],
   "source": [
    "c_test_obj.p_test()"
   ]
  },
  {
   "cell_type": "code",
   "execution_count": 28,
   "id": "179742af-039a-494a-987b-e3f9ac449069",
   "metadata": {},
   "outputs": [],
   "source": [
    "# Multi level inheritance\n",
    "class class1:\n",
    "    def test_c1(self):\n",
    "        return\"My class\""
   ]
  },
  {
   "cell_type": "code",
   "execution_count": 29,
   "id": "473025e1-cfbc-44d9-a324-53e77cae028b",
   "metadata": {},
   "outputs": [],
   "source": [
    "class class2(class1):\n",
    "    def test_class2(self):\n",
    "        return \"My class2\""
   ]
  },
  {
   "cell_type": "code",
   "execution_count": 30,
   "id": "c1de018f-2fac-46d6-b568-9a40190f3df6",
   "metadata": {},
   "outputs": [],
   "source": [
    "class class3(class2):\n",
    "    pass"
   ]
  },
  {
   "cell_type": "code",
   "execution_count": 31,
   "id": "73e619ee-b163-4f3a-b8fe-bf1dc1ff5121",
   "metadata": {},
   "outputs": [],
   "source": [
    "c3=class3()"
   ]
  },
  {
   "cell_type": "code",
   "execution_count": 32,
   "id": "64f762d1-9e3d-46f4-9865-6c93b9a2eebd",
   "metadata": {},
   "outputs": [
    {
     "data": {
      "text/plain": [
       "'My class'"
      ]
     },
     "execution_count": 32,
     "metadata": {},
     "output_type": "execute_result"
    }
   ],
   "source": [
    "c3.test_c1()"
   ]
  },
  {
   "cell_type": "code",
   "execution_count": 33,
   "id": "7e5fd45e-b644-4dfe-b8bb-e429d744c1d6",
   "metadata": {},
   "outputs": [
    {
     "data": {
      "text/plain": [
       "'My class2'"
      ]
     },
     "execution_count": 33,
     "metadata": {},
     "output_type": "execute_result"
    }
   ],
   "source": [
    "c3.test_class2()"
   ]
  },
  {
   "cell_type": "code",
   "execution_count": 34,
   "id": "c449a444-8a7b-4669-a0b9-e8ff14a07e8b",
   "metadata": {},
   "outputs": [],
   "source": [
    "# Multiple inheritance\n",
    "class f_class():\n",
    "    def test_f(self):\n",
    "        return\"Father clas\""
   ]
  },
  {
   "cell_type": "code",
   "execution_count": 35,
   "id": "299c2e1f-66d9-40c7-9ba8-6a70af3c8b28",
   "metadata": {},
   "outputs": [],
   "source": [
    "class m_class:\n",
    "    def test_m(self):\n",
    "        return\"Mother class\""
   ]
  },
  {
   "cell_type": "code",
   "execution_count": 39,
   "id": "4ca6be6e-c25c-43e3-874f-d192dbed6fa3",
   "metadata": {},
   "outputs": [],
   "source": [
    "class c_class(f_class,m_class):\n",
    "    pass"
   ]
  },
  {
   "cell_type": "code",
   "execution_count": 40,
   "id": "862aabff-c48e-431c-99d9-5bcbe6a54dd4",
   "metadata": {},
   "outputs": [],
   "source": [
    "c_class=c_class()"
   ]
  },
  {
   "cell_type": "code",
   "execution_count": 42,
   "id": "76dc8dd7-b8b0-4ca5-9f19-a5c84fda508b",
   "metadata": {},
   "outputs": [
    {
     "data": {
      "text/plain": [
       "'Father clas'"
      ]
     },
     "execution_count": 42,
     "metadata": {},
     "output_type": "execute_result"
    }
   ],
   "source": [
    "c_class.test_f()"
   ]
  },
  {
   "cell_type": "code",
   "execution_count": 43,
   "id": "cc3c5956-b407-42e4-a2e3-9f267e50328d",
   "metadata": {},
   "outputs": [
    {
     "data": {
      "text/plain": [
       "'Mother class'"
      ]
     },
     "execution_count": 43,
     "metadata": {},
     "output_type": "execute_result"
    }
   ],
   "source": [
    "c_class.test_m()"
   ]
  },
  {
   "cell_type": "code",
   "execution_count": 48,
   "id": "f8e0f789-7486-42b1-8bfe-54e05abc0477",
   "metadata": {},
   "outputs": [],
   "source": [
    "# Abstraction\n",
    "import abc\n",
    "class pwskills:\n",
    "    \n",
    "    @abc.abstractmethod\n",
    "    def students_detials(self):\n",
    "        pass\n",
    "    \n",
    "    @abc.abstractmethod\n",
    "    def student_assignemnt(self):\n",
    "        pass\n",
    "    \n",
    "    @abc.abstractmethod\n",
    "    def student_marks(self):\n",
    "        pass"
   ]
  },
  {
   "cell_type": "code",
   "execution_count": 49,
   "id": "7b9611b8-611f-4237-90b0-1c67432f13d2",
   "metadata": {},
   "outputs": [],
   "source": [
    "class student_detils(pwskills):\n",
    "    \n",
    "    def students_detials(self):\n",
    "        return \"this is a meth for taking students details\"\n",
    "    \n",
    "    def student_assignemnt(self):\n",
    "        return \"this is a meth for assing details for a perticualt student\""
   ]
  },
  {
   "cell_type": "code",
   "execution_count": 50,
   "id": "4f23898b-d9a2-459b-8d8a-2a9ec4b26696",
   "metadata": {},
   "outputs": [],
   "source": [
    "class data_science_maters(pwskills):\n",
    "    \n",
    "    def students_detials(self):\n",
    "        return \"this will return a student details for data science masters \"\n",
    "    \n",
    "    def student_assignemnt(self):\n",
    "        return \"this will give you a studnt assignment detaild for data science masters \""
   ]
  },
  {
   "cell_type": "code",
   "execution_count": 52,
   "id": "2175c71d-aeed-4a2d-b2f7-e2fc0efa1243",
   "metadata": {},
   "outputs": [
    {
     "data": {
      "text/plain": [
       "'this will return a student details for data science masters '"
      ]
     },
     "execution_count": 52,
     "metadata": {},
     "output_type": "execute_result"
    }
   ],
   "source": [
    "dsm=data_science_maters()\n",
    "dsm.students_detials()"
   ]
  },
  {
   "cell_type": "code",
   "execution_count": 53,
   "id": "9a192246-393e-469e-b4c3-bded41911bc7",
   "metadata": {},
   "outputs": [
    {
     "data": {
      "text/plain": [
       "'this is a meth for taking students details'"
      ]
     },
     "execution_count": 53,
     "metadata": {},
     "output_type": "execute_result"
    }
   ],
   "source": [
    "sd= student_detils()\n",
    "sd.students_detials()"
   ]
  },
  {
   "cell_type": "code",
   "execution_count": null,
   "id": "8fd01915-d97d-47f8-87fe-11c016c6113d",
   "metadata": {},
   "outputs": [],
   "source": []
  }
 ],
 "metadata": {
  "kernelspec": {
   "display_name": "Python 3 (ipykernel)",
   "language": "python",
   "name": "python3"
  },
  "language_info": {
   "codemirror_mode": {
    "name": "ipython",
    "version": 3
   },
   "file_extension": ".py",
   "mimetype": "text/x-python",
   "name": "python",
   "nbconvert_exporter": "python",
   "pygments_lexer": "ipython3",
   "version": "3.10.8"
  }
 },
 "nbformat": 4,
 "nbformat_minor": 5
}
