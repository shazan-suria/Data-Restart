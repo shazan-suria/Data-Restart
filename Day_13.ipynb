{
 "cells": [
  {
   "cell_type": "code",
   "execution_count": null,
   "id": "4d35874a-d857-4f65-ac8b-e607eeb18aba",
   "metadata": {},
   "outputs": [],
   "source": [
    "# Data day 13\n",
    "# Multithreading"
   ]
  },
  {
   "cell_type": "code",
   "execution_count": 1,
   "id": "d046c758-da90-41f0-904f-c50285859b3f",
   "metadata": {},
   "outputs": [],
   "source": [
    "import threading"
   ]
  },
  {
   "cell_type": "code",
   "execution_count": 2,
   "id": "e9f5a336-23f3-4b03-aff3-8ea4ff0f759f",
   "metadata": {},
   "outputs": [],
   "source": [
    "def test(id):\n",
    "    print(\"program starts %d\"% id)"
   ]
  },
  {
   "cell_type": "code",
   "execution_count": 3,
   "id": "aa0c0e82-96a0-48f4-ade4-914c8db892f9",
   "metadata": {},
   "outputs": [
    {
     "name": "stdout",
     "output_type": "stream",
     "text": [
      "program starts 45\n"
     ]
    }
   ],
   "source": [
    "test(45)"
   ]
  },
  {
   "cell_type": "code",
   "execution_count": 4,
   "id": "6859973e-3129-443e-8c8c-a5310df5dde6",
   "metadata": {},
   "outputs": [],
   "source": [
    "thread = [threading.Thread(target=test , args =(i,) )for i in range(10)]"
   ]
  },
  {
   "cell_type": "code",
   "execution_count": 5,
   "id": "5d7e0b64-517a-476e-a927-2e0f758eeda6",
   "metadata": {},
   "outputs": [
    {
     "name": "stdout",
     "output_type": "stream",
     "text": [
      "program starts 0\n",
      "program starts 1\n",
      "program starts 2\n",
      "program starts 3\n",
      "program starts 4\n",
      "program starts 5\n",
      "program starts 6\n",
      "program starts 7\n",
      "program starts 8\n",
      "program starts 9\n"
     ]
    }
   ],
   "source": [
    "for t in thread :\n",
    "    t.start()"
   ]
  },
  {
   "cell_type": "code",
   "execution_count": 6,
   "id": "e26cd45f-26c8-42cb-b85f-680e80914e35",
   "metadata": {},
   "outputs": [
    {
     "data": {
      "text/plain": [
       "[<Thread(Thread-5 (test), stopped 139929387509312)>,\n",
       " <Thread(Thread-6 (test), stopped 139929387509312)>,\n",
       " <Thread(Thread-7 (test), stopped 139929387509312)>,\n",
       " <Thread(Thread-8 (test), stopped 139929387509312)>,\n",
       " <Thread(Thread-9 (test), stopped 139929387509312)>,\n",
       " <Thread(Thread-10 (test), stopped 139929387509312)>,\n",
       " <Thread(Thread-11 (test), stopped 139929387509312)>,\n",
       " <Thread(Thread-12 (test), stopped 139929387509312)>,\n",
       " <Thread(Thread-13 (test), stopped 139929387509312)>,\n",
       " <Thread(Thread-14 (test), stopped 139929387509312)>]"
      ]
     },
     "execution_count": 6,
     "metadata": {},
     "output_type": "execute_result"
    }
   ],
   "source": [
    "thread"
   ]
  },
  {
   "cell_type": "code",
   "execution_count": 7,
   "id": "6973be08-7c36-4159-bda0-912f186bc8d9",
   "metadata": {},
   "outputs": [],
   "source": [
    "import threading\n",
    "import urllib.request\n",
    "\n",
    "def file_download(url , filename):\n",
    "    urllib.request.urlretrieve(url,filename)"
   ]
  },
  {
   "cell_type": "code",
   "execution_count": 8,
   "id": "624727bc-3a0d-447e-9986-640b3466dec2",
   "metadata": {},
   "outputs": [],
   "source": [
    "url_list  = ['https://raw.githubusercontent.com/itsfoss/text-files/master/agatha.txt','https://raw.githubusercontent.com/itsfoss/text-files/master/sherlock.txt','https://raw.githubusercontent.com/itsfoss/text-files/master/sample_log_file.txt']"
   ]
  },
  {
   "cell_type": "code",
   "execution_count": 10,
   "id": "4c5bb38f-f963-4d55-a667-1de50d66011a",
   "metadata": {},
   "outputs": [],
   "source": [
    "file_name_list=['data1.txt','data2.txt','data3.txt']"
   ]
  },
  {
   "cell_type": "code",
   "execution_count": 12,
   "id": "1d2bb3bb-c78e-40f9-a5dd-334016f90bd9",
   "metadata": {},
   "outputs": [],
   "source": [
    "ther= [threading.Thread(target=file_download , args = (url_list[i], file_name_list[i])) for i in range(len(url_list))]"
   ]
  },
  {
   "cell_type": "code",
   "execution_count": 13,
   "id": "cca97ed3-2cee-4259-bc67-ab61eac360ca",
   "metadata": {},
   "outputs": [
    {
     "data": {
      "text/plain": [
       "[<Thread(Thread-15 (file_download), initial)>,\n",
       " <Thread(Thread-16 (file_download), initial)>,\n",
       " <Thread(Thread-17 (file_download), initial)>]"
      ]
     },
     "execution_count": 13,
     "metadata": {},
     "output_type": "execute_result"
    }
   ],
   "source": [
    "ther"
   ]
  },
  {
   "cell_type": "code",
   "execution_count": 14,
   "id": "804889e5-7270-40ef-9efd-c80472155590",
   "metadata": {},
   "outputs": [],
   "source": [
    "for t in ther:\n",
    "    t.start()"
   ]
  },
  {
   "cell_type": "code",
   "execution_count": 15,
   "id": "c1ec62dd-3d93-4514-a3be-9a89b0ad4447",
   "metadata": {},
   "outputs": [
    {
     "data": {
      "text/plain": [
       "[<Thread(Thread-15 (file_download), stopped 139929387509312)>,\n",
       " <Thread(Thread-16 (file_download), stopped 139929027868224)>,\n",
       " <Thread(Thread-17 (file_download), stopped 139929019475520)>]"
      ]
     },
     "execution_count": 15,
     "metadata": {},
     "output_type": "execute_result"
    }
   ],
   "source": [
    "ther"
   ]
  },
  {
   "cell_type": "code",
   "execution_count": 16,
   "id": "3a6fee47-a1f6-40b7-ae45-3636ea1e2927",
   "metadata": {},
   "outputs": [],
   "source": [
    "import time"
   ]
  },
  {
   "cell_type": "code",
   "execution_count": 17,
   "id": "2b8bb935-eba1-4965-a65b-36955f445af5",
   "metadata": {},
   "outputs": [],
   "source": [
    "def test1(id) :\n",
    "    for i in range(10) : \n",
    "        print(\"test1 %d printing %d %s\" %(id,i,time.ctime()))\n",
    "        time.sleep(1)"
   ]
  },
  {
   "cell_type": "code",
   "execution_count": 18,
   "id": "18178d4a-a826-46c8-a681-357daf0b9637",
   "metadata": {},
   "outputs": [
    {
     "name": "stdout",
     "output_type": "stream",
     "text": [
      "test1 1 printing 0 Mon May  8 10:14:32 2023\n",
      "test1 1 printing 1 Mon May  8 10:14:33 2023\n",
      "test1 1 printing 2 Mon May  8 10:14:34 2023\n",
      "test1 1 printing 3 Mon May  8 10:14:35 2023\n",
      "test1 1 printing 4 Mon May  8 10:14:36 2023\n",
      "test1 1 printing 5 Mon May  8 10:14:37 2023\n",
      "test1 1 printing 6 Mon May  8 10:14:38 2023\n",
      "test1 1 printing 7 Mon May  8 10:14:39 2023\n",
      "test1 1 printing 8 Mon May  8 10:14:40 2023\n",
      "test1 1 printing 9 Mon May  8 10:14:41 2023\n"
     ]
    }
   ],
   "source": [
    "test1(1)"
   ]
  },
  {
   "cell_type": "code",
   "execution_count": 19,
   "id": "a067937d-e4f1-45c5-ae28-234779fb792e",
   "metadata": {},
   "outputs": [],
   "source": [
    "thread1 = [threading.Thread(target=test1 , args  = (i,)) for i in range(3)]"
   ]
  },
  {
   "cell_type": "code",
   "execution_count": 20,
   "id": "4182981d-c1b9-48e2-8685-0554d6284f92",
   "metadata": {},
   "outputs": [
    {
     "name": "stdout",
     "output_type": "stream",
     "text": [
      "test1 0 printing 0 Mon May  8 10:17:21 2023\n",
      "test1 1 printing 0 Mon May  8 10:17:21 2023\n",
      "test1 2 printing 0 Mon May  8 10:17:21 2023\n",
      "test1 0 printing 1 Mon May  8 10:17:22 2023\n",
      "test1 1 printing 1 Mon May  8 10:17:22 2023\n",
      "test1 2 printing 1 Mon May  8 10:17:22 2023\n",
      "test1 0 printing 2 Mon May  8 10:17:23 2023\n",
      "test1 1 printing 2 Mon May  8 10:17:23 2023\n",
      "test1 2 printing 2 Mon May  8 10:17:23 2023\n",
      "test1 0 printing 3 Mon May  8 10:17:24 2023\n",
      "test1 1 printing 3 Mon May  8 10:17:24 2023\n",
      "test1 2 printing 3 Mon May  8 10:17:24 2023\n",
      "test1 0 printing 4 Mon May  8 10:17:25 2023\n",
      "test1 1 printing 4 Mon May  8 10:17:25 2023\n",
      "test1 2 printing 4 Mon May  8 10:17:25 2023\n",
      "test1 0 printing 5 Mon May  8 10:17:26 2023\n",
      "test1 1 printing 5 Mon May  8 10:17:26 2023\n",
      "test1 2 printing 5 Mon May  8 10:17:26 2023\n",
      "test1 0 printing 6 Mon May  8 10:17:27 2023\n",
      "test1 1 printing 6 Mon May  8 10:17:27 2023\n",
      "test1 2 printing 6 Mon May  8 10:17:27 2023\n",
      "test1 0 printing 7 Mon May  8 10:17:28 2023\n",
      "test1 1 printing 7 Mon May  8 10:17:28 2023\n",
      "test1 2 printing 7 Mon May  8 10:17:28 2023\n",
      "test1 0 printing 8 Mon May  8 10:17:29 2023\n",
      "test1 1 printing 8 Mon May  8 10:17:29 2023\n",
      "test1 2 printing 8 Mon May  8 10:17:29 2023\n",
      "test1 0 printing 9 Mon May  8 10:17:30 2023\n",
      "test1 1 printing 9 Mon May  8 10:17:30 2023\n",
      "test1 2 printing 9 Mon May  8 10:17:30 2023\n"
     ]
    }
   ],
   "source": [
    "for t in thread1:\n",
    "    t.start()"
   ]
  },
  {
   "cell_type": "code",
   "execution_count": 21,
   "id": "8fdf6c0e-927a-4d10-9e26-20012a2e3f51",
   "metadata": {},
   "outputs": [],
   "source": [
    "s_var=0\n",
    "lock_var=threading.Lock()"
   ]
  },
  {
   "cell_type": "code",
   "execution_count": 23,
   "id": "11a20ee8-61c3-4676-bcfe-ae1d8297a840",
   "metadata": {},
   "outputs": [
    {
     "name": "stdout",
     "output_type": "stream",
     "text": [
      "test2 is 0 has increased the shared variable by 1 \n",
      "test2 is 1 has increased the shared variable by 2 \n",
      "test2 is 2 has increased the shared variable by 3 \n"
     ]
    }
   ],
   "source": [
    "shared_var = 0\n",
    "lock_var = threading.Lock()\n",
    "def test2(id) : \n",
    "    global shared_var\n",
    "    with lock_var:\n",
    "        shared_var = shared_var+1\n",
    "        print(\"test2 is %d has increased the shared variable by %d \" % (id ,shared_var) )\n",
    "        time.sleep(1)\n",
    "ther3 = [threading.Thread(target=test2 , args = (i,) ) for i in range(3)]    \n",
    "for t in ther3:\n",
    "    t.start()"
   ]
  },
  {
   "cell_type": "code",
   "execution_count": null,
   "id": "65db97be-38f2-4e86-b170-5f9dd9630505",
   "metadata": {},
   "outputs": [],
   "source": []
  }
 ],
 "metadata": {
  "kernelspec": {
   "display_name": "Python 3 (ipykernel)",
   "language": "python",
   "name": "python3"
  },
  "language_info": {
   "codemirror_mode": {
    "name": "ipython",
    "version": 3
   },
   "file_extension": ".py",
   "mimetype": "text/x-python",
   "name": "python",
   "nbconvert_exporter": "python",
   "pygments_lexer": "ipython3",
   "version": "3.10.8"
  }
 },
 "nbformat": 4,
 "nbformat_minor": 5
}
