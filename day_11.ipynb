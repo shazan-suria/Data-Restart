{
 "cells": [
  {
   "cell_type": "code",
   "execution_count": null,
   "id": "fa9f6598-8811-4487-984f-a2aaf9978062",
   "metadata": {},
   "outputs": [],
   "source": [
    "# Data Day 11\n",
    "# Exceptions Handling with Try-Except\n",
    "# Custom Exceotion Handling"
   ]
  },
  {
   "cell_type": "code",
   "execution_count": 1,
   "id": "28328f1d-cb04-48c3-ba11-6bc030c10fb3",
   "metadata": {},
   "outputs": [
    {
     "name": "stdout",
     "output_type": "stream",
     "text": [
      "this is my Exception block [Errno 2] No such file or directory: 'test.txt'\n"
     ]
    }
   ],
   "source": [
    "try:\n",
    "    f=open(\"test.txt\",\"r\")\n",
    "except Exception as e:\n",
    "    print(\"this is my Exception block\", e)"
   ]
  },
  {
   "cell_type": "code",
   "execution_count": 3,
   "id": "1aa6a5e1-488c-4b6b-92ba-54812fb1aca6",
   "metadata": {},
   "outputs": [
    {
     "name": "stdout",
     "output_type": "stream",
     "text": [
      "this is my else block which will execute only when the try block will completely executed\n"
     ]
    }
   ],
   "source": [
    "try:\n",
    "    f=open(\"test.txt\",\"w\")\n",
    "    f.write(\"this is my try filr\")\n",
    "    f.close()\n",
    "except Exception as e:\n",
    "    print(\"this is my Exception block\", e)\n",
    "else:\n",
    "    print(\"this is my else block which will execute only when the try block will completely executed\")"
   ]
  },
  {
   "cell_type": "code",
   "execution_count": 4,
   "id": "1630522c-9508-41a9-8aa6-0941b13524b0",
   "metadata": {},
   "outputs": [
    {
     "name": "stdout",
     "output_type": "stream",
     "text": [
      "this will be executed always\n"
     ]
    }
   ],
   "source": [
    "try:\n",
    "    f=open(\"test2.txt\",\"w\")\n",
    "    f.write(\"this is my try filr\")\n",
    "    f.close()\n",
    "except Exception as e:\n",
    "    print(\"this is my Exception block\", e)\n",
    "finally:\n",
    "    print('this will be executed always')"
   ]
  },
  {
   "cell_type": "code",
   "execution_count": 18,
   "id": "1153f121-ba19-4057-85ae-33edfedfa3fb",
   "metadata": {},
   "outputs": [],
   "source": [
    "class validateage(Exception):\n",
    "    \n",
    "    def __init__(self,msg):\n",
    "        self.msg=msg"
   ]
  },
  {
   "cell_type": "code",
   "execution_count": 22,
   "id": "868100e2-ceb8-4888-a94b-ace48c74f6fe",
   "metadata": {},
   "outputs": [],
   "source": [
    "def validaetage(age):\n",
    "    if age<0:\n",
    "        raise validateage(\"Entered age is negative\")\n",
    "    elif age>200:\n",
    "        raise validateage(\"Entered age is very high\")\n",
    "    else:\n",
    "        print(\"age is valid\")"
   ]
  },
  {
   "cell_type": "code",
   "execution_count": 23,
   "id": "6e90664e-f895-40ca-8c93-46a9f289b630",
   "metadata": {},
   "outputs": [
    {
     "name": "stdin",
     "output_type": "stream",
     "text": [
      "enter age -1\n"
     ]
    },
    {
     "name": "stdout",
     "output_type": "stream",
     "text": [
      "Entered age is negative\n"
     ]
    }
   ],
   "source": [
    "try:\n",
    "    age=int(input(\"enter age\"))\n",
    "    validaetage(age)\n",
    "except validateage as e:\n",
    "    print(e)"
   ]
  },
  {
   "cell_type": "code",
   "execution_count": null,
   "id": "3fbb44ee-e41c-4cbc-a621-9fd7cc23aca2",
   "metadata": {},
   "outputs": [],
   "source": []
  }
 ],
 "metadata": {
  "kernelspec": {
   "display_name": "Python 3 (ipykernel)",
   "language": "python",
   "name": "python3"
  },
  "language_info": {
   "codemirror_mode": {
    "name": "ipython",
    "version": 3
   },
   "file_extension": ".py",
   "mimetype": "text/x-python",
   "name": "python",
   "nbconvert_exporter": "python",
   "pygments_lexer": "ipython3",
   "version": "3.10.8"
  }
 },
 "nbformat": 4,
 "nbformat_minor": 5
}
