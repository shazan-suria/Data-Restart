{
 "cells": [
  {
   "cell_type": "code",
   "execution_count": 1,
   "id": "64a13a62-9383-4a09-afb1-017eca89b86e",
   "metadata": {},
   "outputs": [],
   "source": [
    "# Daya day 9\n",
    "# Decorator\n",
    "# Class Methods\n",
    "# Static Method\n",
    "# Special(Magic/dunder) Method\n",
    "# Property Decorators - Getters, Setters, and Deleter"
   ]
  },
  {
   "cell_type": "code",
   "execution_count": 2,
   "id": "dcfa61f1-0ee6-478e-ac07-d0ee2068346c",
   "metadata": {},
   "outputs": [],
   "source": [
    "def deco(func):\n",
    "    \n",
    "    def inner_deco():\n",
    "        print('This is the start of my function')\n",
    "        func()\n",
    "        print('This is the end of my function')\n",
    "    return inner_deco"
   ]
  },
  {
   "cell_type": "code",
   "execution_count": 3,
   "id": "15f3a949-3fdb-427b-81f6-c163b8ce14d5",
   "metadata": {},
   "outputs": [],
   "source": [
    "@deco\n",
    "def test():\n",
    "    print(6*5)"
   ]
  },
  {
   "cell_type": "code",
   "execution_count": 4,
   "id": "db7c6940-05cc-4506-9ed3-775effee5c0e",
   "metadata": {},
   "outputs": [
    {
     "name": "stdout",
     "output_type": "stream",
     "text": [
      "This is the start of my function\n",
      "30\n",
      "This is the end of my function\n"
     ]
    }
   ],
   "source": [
    "test()"
   ]
  },
  {
   "cell_type": "code",
   "execution_count": 5,
   "id": "c3d5ee9f-2c33-4aab-8808-29615f60c214",
   "metadata": {},
   "outputs": [],
   "source": [
    "import time\n",
    "\n",
    "def timer_test(func):\n",
    "    \n",
    "    def time_test_inner():\n",
    "        start=time.time()\n",
    "        func()\n",
    "        end=time.time()\n",
    "        print(end-start)\n",
    "    return time_test_inner"
   ]
  },
  {
   "cell_type": "code",
   "execution_count": 6,
   "id": "b6d33b98-fb7c-4ed1-8197-f4c6467e4b68",
   "metadata": {},
   "outputs": [],
   "source": [
    "@timer_test\n",
    "def test1():\n",
    "    for i in range(10000000):\n",
    "        pass"
   ]
  },
  {
   "cell_type": "code",
   "execution_count": 7,
   "id": "d855e4e1-c7f6-422a-9779-e09e3abcb91b",
   "metadata": {},
   "outputs": [
    {
     "name": "stdout",
     "output_type": "stream",
     "text": [
      "0.20544910430908203\n"
     ]
    }
   ],
   "source": [
    "test1()"
   ]
  },
  {
   "cell_type": "code",
   "execution_count": 8,
   "id": "081fcbf3-4999-448e-a64e-01beaa7ad8c6",
   "metadata": {},
   "outputs": [],
   "source": [
    "# class methode\n",
    "class pwskills:\n",
    "    def __init__(self,name,email):\n",
    "        self.name=name\n",
    "        self.email=email\n",
    "    \n",
    "    def stu_details(self):\n",
    "        print(self.name,self.email)"
   ]
  },
  {
   "cell_type": "code",
   "execution_count": 9,
   "id": "85128f5d-348e-4123-9b48-507c71a3de5d",
   "metadata": {},
   "outputs": [],
   "source": [
    "obj=pwskills('abc','abc@gmail.com')"
   ]
  },
  {
   "cell_type": "code",
   "execution_count": 10,
   "id": "8a8a3fa8-0c9e-4594-9da0-cde8a5f59513",
   "metadata": {},
   "outputs": [
    {
     "data": {
      "text/plain": [
       "'abc'"
      ]
     },
     "execution_count": 10,
     "metadata": {},
     "output_type": "execute_result"
    }
   ],
   "source": [
    "obj.name"
   ]
  },
  {
   "cell_type": "code",
   "execution_count": 11,
   "id": "ab6035ca-1c3a-492f-9d21-3d1956a81019",
   "metadata": {},
   "outputs": [
    {
     "data": {
      "text/plain": [
       "'abc@gmail.com'"
      ]
     },
     "execution_count": 11,
     "metadata": {},
     "output_type": "execute_result"
    }
   ],
   "source": [
    "obj.email"
   ]
  },
  {
   "cell_type": "code",
   "execution_count": 12,
   "id": "6ca306e2-8525-444b-973a-cd5990ec7857",
   "metadata": {},
   "outputs": [
    {
     "name": "stdout",
     "output_type": "stream",
     "text": [
      "abc abc@gmail.com\n"
     ]
    }
   ],
   "source": [
    "obj.stu_details()"
   ]
  },
  {
   "cell_type": "code",
   "execution_count": 13,
   "id": "49b15847-1a62-48db-b391-c0102811afe9",
   "metadata": {},
   "outputs": [],
   "source": [
    "class pwskills1:\n",
    "    def __init__(self,name,email):\n",
    "        self.name=name\n",
    "        self.email=email\n",
    "    @classmethod\n",
    "    def details(cls,name,email):\n",
    "        return cls(name,email)\n",
    "    \n",
    "    def stu_details(self):\n",
    "        print(self.name,self.email)"
   ]
  },
  {
   "cell_type": "code",
   "execution_count": 14,
   "id": "63b18e43-8cbd-4693-9d49-3221df815c1b",
   "metadata": {},
   "outputs": [],
   "source": [
    "pw1=pwskills1.details('abc','abc@gmail.com')"
   ]
  },
  {
   "cell_type": "code",
   "execution_count": 15,
   "id": "7cfaefbd-55df-47bb-b17c-6009f9068be1",
   "metadata": {},
   "outputs": [
    {
     "data": {
      "text/plain": [
       "'abc'"
      ]
     },
     "execution_count": 15,
     "metadata": {},
     "output_type": "execute_result"
    }
   ],
   "source": [
    "pw1.name"
   ]
  },
  {
   "cell_type": "code",
   "execution_count": 16,
   "id": "8a52920c-2e07-4823-b31a-5d2f945a9fb4",
   "metadata": {},
   "outputs": [
    {
     "name": "stdout",
     "output_type": "stream",
     "text": [
      "abc abc@gmail.com\n"
     ]
    }
   ],
   "source": [
    "pw1.stu_details()"
   ]
  },
  {
   "cell_type": "code",
   "execution_count": 17,
   "id": "edafea97-e07a-4ddc-8789-c69de8e17950",
   "metadata": {},
   "outputs": [],
   "source": [
    "class pwskills2:\n",
    "    \n",
    "    num=9365863457\n",
    "    \n",
    "    def __init__(self,name,email):\n",
    "        self.name=name\n",
    "        self.email=email\n",
    "    @classmethod    \n",
    "    def change_num(cls,mob_num):\n",
    "        pwskills2.num=mob_num\n",
    "        \n",
    "    @classmethod\n",
    "    def details(cls,name,email):\n",
    "        return cls(name,email)\n",
    "    \n",
    "    def stu_details(self):\n",
    "        print(self.name,self.email)\n",
    "    \n",
    "    def full_details(self):\n",
    "        print(self.name,self.email,pwskills2.num)"
   ]
  },
  {
   "cell_type": "code",
   "execution_count": 18,
   "id": "634e5d3d-e8bc-4404-aac6-1c0e93f69966",
   "metadata": {},
   "outputs": [
    {
     "data": {
      "text/plain": [
       "9365863457"
      ]
     },
     "execution_count": 18,
     "metadata": {},
     "output_type": "execute_result"
    }
   ],
   "source": [
    "pwskills2.num"
   ]
  },
  {
   "cell_type": "code",
   "execution_count": 19,
   "id": "67fdf933-da76-4ab4-af80-ae71dcdbff65",
   "metadata": {},
   "outputs": [],
   "source": [
    "pwskills2.change_num(5467893075)"
   ]
  },
  {
   "cell_type": "code",
   "execution_count": 20,
   "id": "1dc6e7fb-1bc1-4289-a693-a988799b50a7",
   "metadata": {},
   "outputs": [
    {
     "data": {
      "text/plain": [
       "5467893075"
      ]
     },
     "execution_count": 20,
     "metadata": {},
     "output_type": "execute_result"
    }
   ],
   "source": [
    "pwskills2.num"
   ]
  },
  {
   "cell_type": "code",
   "execution_count": 21,
   "id": "da418588-7d25-4410-a693-55414bab9713",
   "metadata": {},
   "outputs": [],
   "source": [
    "# methid 1 to access full detauls\n",
    "obj1=pwskills2('shazan','suria@gmail.com')"
   ]
  },
  {
   "cell_type": "code",
   "execution_count": 22,
   "id": "013dcd58-16a9-4bfc-9ffb-85bddcae0ad8",
   "metadata": {},
   "outputs": [
    {
     "name": "stdout",
     "output_type": "stream",
     "text": [
      "shazan suria@gmail.com 5467893075\n"
     ]
    }
   ],
   "source": [
    "obj1.full_details()"
   ]
  },
  {
   "cell_type": "code",
   "execution_count": 23,
   "id": "38189ff7-5589-4dc0-a5a8-dfe91ef457f0",
   "metadata": {},
   "outputs": [],
   "source": [
    "# methot 2 \n",
    "pw=pwskills2.details('rohan','roham@gmail.com')"
   ]
  },
  {
   "cell_type": "code",
   "execution_count": 24,
   "id": "1966f1bb-3e11-4631-8d5e-d02f2949905c",
   "metadata": {},
   "outputs": [
    {
     "name": "stdout",
     "output_type": "stream",
     "text": [
      "rohan roham@gmail.com 5467893075\n"
     ]
    }
   ],
   "source": [
    "pw.full_details()"
   ]
  },
  {
   "cell_type": "code",
   "execution_count": 25,
   "id": "eae7fdc0-f07c-4ee8-9f19-38297624a5ed",
   "metadata": {},
   "outputs": [],
   "source": [
    "class pwskills3:\n",
    "    \n",
    "    num=9365863457\n",
    "    \n",
    "    def __init__(self,name,email):\n",
    "        self.name=name\n",
    "        self.email=email\n",
    "    @classmethod    \n",
    "    def change_num(cls,mob_num):\n",
    "        pwskills3.num=mob_num\n",
    "        \n",
    "    @classmethod\n",
    "    def details(cls,name,email):\n",
    "        return cls(name,email)\n",
    "    \n",
    "    def stu_details(self):\n",
    "        print(self.name,self.email)\n",
    "    \n",
    "    def full_details(self):\n",
    "        print(self.name,self.email,pwskills3.num)"
   ]
  },
  {
   "cell_type": "code",
   "execution_count": 26,
   "id": "1a99e8a8-b1b9-4386-8ee5-b7cf09d35534",
   "metadata": {},
   "outputs": [],
   "source": [
    "# adding a external function through class method\n",
    "def course_details(cls,cours_name):\n",
    "    print('course name is ',cours_name)"
   ]
  },
  {
   "cell_type": "code",
   "execution_count": 27,
   "id": "f22b062a-0ab4-4a91-afa4-26ece9ca8837",
   "metadata": {},
   "outputs": [],
   "source": [
    "pwskills3.course_details=classmethod(course_details)"
   ]
  },
  {
   "cell_type": "code",
   "execution_count": 28,
   "id": "50df76b0-3e4c-47aa-8c08-2957839cfd83",
   "metadata": {},
   "outputs": [
    {
     "name": "stdout",
     "output_type": "stream",
     "text": [
      "course name is  data science\n"
     ]
    }
   ],
   "source": [
    "pwskills3.course_details('data science')"
   ]
  },
  {
   "cell_type": "code",
   "execution_count": 29,
   "id": "6dec34b7-a21d-4626-93ea-e60fb163740d",
   "metadata": {},
   "outputs": [],
   "source": [
    "# deleting function\n",
    "del pwskills3.change_num"
   ]
  },
  {
   "cell_type": "code",
   "execution_count": 30,
   "id": "1dd4ed5b-3885-4d48-8cb7-13081fe007ba",
   "metadata": {},
   "outputs": [
    {
     "ename": "AttributeError",
     "evalue": "type object 'pwskills3' has no attribute 'change_num'",
     "output_type": "error",
     "traceback": [
      "\u001b[0;31m---------------------------------------------------------------------------\u001b[0m",
      "\u001b[0;31mAttributeError\u001b[0m                            Traceback (most recent call last)",
      "Cell \u001b[0;32mIn[30], line 1\u001b[0m\n\u001b[0;32m----> 1\u001b[0m \u001b[43mpwskills3\u001b[49m\u001b[38;5;241;43m.\u001b[39;49m\u001b[43mchange_num\u001b[49m(\u001b[38;5;241m5463789\u001b[39m)\n",
      "\u001b[0;31mAttributeError\u001b[0m: type object 'pwskills3' has no attribute 'change_num'"
     ]
    }
   ],
   "source": [
    "pwskills3.change_num(5463789)"
   ]
  },
  {
   "cell_type": "code",
   "execution_count": 31,
   "id": "504d9396-14a3-4d1a-81a7-774d3095b31a",
   "metadata": {},
   "outputs": [],
   "source": [
    "# Static method\n",
    "class p1:\n",
    "    \n",
    "    def st_detail(self,name,number):\n",
    "        print(name,number)\n",
    "        \n",
    "    \n",
    "    @staticmethod\n",
    "    def contact_pw():\n",
    "        pw_contact=456987390\n",
    "        return pw_contact\n",
    "    \n",
    "    \n",
    "    @classmethod\n",
    "    def demo_class(cls):\n",
    "        print(cls.contact_pw())#calling static methode in class methode\n",
    "    \n",
    "    @staticmethod\n",
    "    def demo_static():\n",
    "        print(p1.contact_pw())#static method inside static method\n",
    "    \n",
    "    def demo_instance(self):\n",
    "        print(self.contact_pw())#static methode inside instance methode"
   ]
  },
  {
   "cell_type": "code",
   "execution_count": 32,
   "id": "ef0e09a0-728e-44b8-b8c3-dde7c41a1c6a",
   "metadata": {},
   "outputs": [
    {
     "data": {
      "text/plain": [
       "456987390"
      ]
     },
     "execution_count": 32,
     "metadata": {},
     "output_type": "execute_result"
    }
   ],
   "source": [
    "p1.contact_pw()"
   ]
  },
  {
   "cell_type": "code",
   "execution_count": 33,
   "id": "20e41692-c649-4c95-a36e-3aa964a373f4",
   "metadata": {},
   "outputs": [
    {
     "name": "stdout",
     "output_type": "stream",
     "text": [
      "456987390\n"
     ]
    }
   ],
   "source": [
    "p1.demo_class()"
   ]
  },
  {
   "cell_type": "code",
   "execution_count": 34,
   "id": "083e0a8d-6a84-43af-85a6-ce5c7509cea6",
   "metadata": {},
   "outputs": [
    {
     "name": "stdout",
     "output_type": "stream",
     "text": [
      "456987390\n"
     ]
    }
   ],
   "source": [
    "p1.demo_static()"
   ]
  },
  {
   "cell_type": "code",
   "execution_count": 35,
   "id": "d3fcaad9-1361-4cf4-8e0c-4c81f6d20e43",
   "metadata": {},
   "outputs": [
    {
     "name": "stdout",
     "output_type": "stream",
     "text": [
      "456987390\n"
     ]
    }
   ],
   "source": [
    "pw=p1()\n",
    "pw.demo_instance()"
   ]
  },
  {
   "cell_type": "code",
   "execution_count": 36,
   "id": "78fbb83c-aeff-4ee2-acf9-29b9e64364c7",
   "metadata": {},
   "outputs": [
    {
     "data": {
      "text/plain": [
       "['__abs__',\n",
       " '__add__',\n",
       " '__and__',\n",
       " '__bool__',\n",
       " '__ceil__',\n",
       " '__class__',\n",
       " '__delattr__',\n",
       " '__dir__',\n",
       " '__divmod__',\n",
       " '__doc__',\n",
       " '__eq__',\n",
       " '__float__',\n",
       " '__floor__',\n",
       " '__floordiv__',\n",
       " '__format__',\n",
       " '__ge__',\n",
       " '__getattribute__',\n",
       " '__getnewargs__',\n",
       " '__gt__',\n",
       " '__hash__',\n",
       " '__index__',\n",
       " '__init__',\n",
       " '__init_subclass__',\n",
       " '__int__',\n",
       " '__invert__',\n",
       " '__le__',\n",
       " '__lshift__',\n",
       " '__lt__',\n",
       " '__mod__',\n",
       " '__mul__',\n",
       " '__ne__',\n",
       " '__neg__',\n",
       " '__new__',\n",
       " '__or__',\n",
       " '__pos__',\n",
       " '__pow__',\n",
       " '__radd__',\n",
       " '__rand__',\n",
       " '__rdivmod__',\n",
       " '__reduce__',\n",
       " '__reduce_ex__',\n",
       " '__repr__',\n",
       " '__rfloordiv__',\n",
       " '__rlshift__',\n",
       " '__rmod__',\n",
       " '__rmul__',\n",
       " '__ror__',\n",
       " '__round__',\n",
       " '__rpow__',\n",
       " '__rrshift__',\n",
       " '__rshift__',\n",
       " '__rsub__',\n",
       " '__rtruediv__',\n",
       " '__rxor__',\n",
       " '__setattr__',\n",
       " '__sizeof__',\n",
       " '__str__',\n",
       " '__sub__',\n",
       " '__subclasshook__',\n",
       " '__truediv__',\n",
       " '__trunc__',\n",
       " '__xor__',\n",
       " 'as_integer_ratio',\n",
       " 'bit_count',\n",
       " 'bit_length',\n",
       " 'conjugate',\n",
       " 'denominator',\n",
       " 'from_bytes',\n",
       " 'imag',\n",
       " 'numerator',\n",
       " 'real',\n",
       " 'to_bytes']"
      ]
     },
     "execution_count": 36,
     "metadata": {},
     "output_type": "execute_result"
    }
   ],
   "source": [
    "#Special (Magic/Dunder) Method\n",
    "dir(int)"
   ]
  },
  {
   "cell_type": "code",
   "execution_count": 37,
   "id": "bb66515f-ff22-4f10-984d-a29069227181",
   "metadata": {},
   "outputs": [
    {
     "data": {
      "text/plain": [
       "['__add__',\n",
       " '__class__',\n",
       " '__contains__',\n",
       " '__delattr__',\n",
       " '__dir__',\n",
       " '__doc__',\n",
       " '__eq__',\n",
       " '__format__',\n",
       " '__ge__',\n",
       " '__getattribute__',\n",
       " '__getitem__',\n",
       " '__getnewargs__',\n",
       " '__gt__',\n",
       " '__hash__',\n",
       " '__init__',\n",
       " '__init_subclass__',\n",
       " '__iter__',\n",
       " '__le__',\n",
       " '__len__',\n",
       " '__lt__',\n",
       " '__mod__',\n",
       " '__mul__',\n",
       " '__ne__',\n",
       " '__new__',\n",
       " '__reduce__',\n",
       " '__reduce_ex__',\n",
       " '__repr__',\n",
       " '__rmod__',\n",
       " '__rmul__',\n",
       " '__setattr__',\n",
       " '__sizeof__',\n",
       " '__str__',\n",
       " '__subclasshook__',\n",
       " 'capitalize',\n",
       " 'casefold',\n",
       " 'center',\n",
       " 'count',\n",
       " 'encode',\n",
       " 'endswith',\n",
       " 'expandtabs',\n",
       " 'find',\n",
       " 'format',\n",
       " 'format_map',\n",
       " 'index',\n",
       " 'isalnum',\n",
       " 'isalpha',\n",
       " 'isascii',\n",
       " 'isdecimal',\n",
       " 'isdigit',\n",
       " 'isidentifier',\n",
       " 'islower',\n",
       " 'isnumeric',\n",
       " 'isprintable',\n",
       " 'isspace',\n",
       " 'istitle',\n",
       " 'isupper',\n",
       " 'join',\n",
       " 'ljust',\n",
       " 'lower',\n",
       " 'lstrip',\n",
       " 'maketrans',\n",
       " 'partition',\n",
       " 'removeprefix',\n",
       " 'removesuffix',\n",
       " 'replace',\n",
       " 'rfind',\n",
       " 'rindex',\n",
       " 'rjust',\n",
       " 'rpartition',\n",
       " 'rsplit',\n",
       " 'rstrip',\n",
       " 'split',\n",
       " 'splitlines',\n",
       " 'startswith',\n",
       " 'strip',\n",
       " 'swapcase',\n",
       " 'title',\n",
       " 'translate',\n",
       " 'upper',\n",
       " 'zfill']"
      ]
     },
     "execution_count": 37,
     "metadata": {},
     "output_type": "execute_result"
    }
   ],
   "source": [
    "dir(str)"
   ]
  },
  {
   "cell_type": "code",
   "execution_count": 38,
   "id": "774472da-7af8-4070-a84a-4736f1888173",
   "metadata": {},
   "outputs": [],
   "source": [
    "a=10\n",
    "@timer_test\n",
    "def t():\n",
    "    return a.__add__(100000000000000000000)\n",
    "@timer_test\n",
    "def t2():\n",
    "    return a+10000000000000000000"
   ]
  },
  {
   "cell_type": "code",
   "execution_count": 39,
   "id": "5f55253c-1844-47e5-91c4-4dc1ab977581",
   "metadata": {},
   "outputs": [
    {
     "name": "stdout",
     "output_type": "stream",
     "text": [
      "2.384185791015625e-06\n"
     ]
    }
   ],
   "source": [
    "t()"
   ]
  },
  {
   "cell_type": "code",
   "execution_count": 40,
   "id": "f189fdbd-3213-441e-a3f0-eca3bdff177b",
   "metadata": {},
   "outputs": [
    {
     "name": "stdout",
     "output_type": "stream",
     "text": [
      "1.430511474609375e-06\n"
     ]
    }
   ],
   "source": [
    "t2()"
   ]
  },
  {
   "cell_type": "code",
   "execution_count": 41,
   "id": "3ec1df04-ea17-466a-a4d3-52a5359e2a58",
   "metadata": {},
   "outputs": [
    {
     "data": {
      "text/plain": [
       "['__and__',\n",
       " '__class__',\n",
       " '__class_getitem__',\n",
       " '__contains__',\n",
       " '__delattr__',\n",
       " '__dir__',\n",
       " '__doc__',\n",
       " '__eq__',\n",
       " '__format__',\n",
       " '__ge__',\n",
       " '__getattribute__',\n",
       " '__gt__',\n",
       " '__hash__',\n",
       " '__iand__',\n",
       " '__init__',\n",
       " '__init_subclass__',\n",
       " '__ior__',\n",
       " '__isub__',\n",
       " '__iter__',\n",
       " '__ixor__',\n",
       " '__le__',\n",
       " '__len__',\n",
       " '__lt__',\n",
       " '__ne__',\n",
       " '__new__',\n",
       " '__or__',\n",
       " '__rand__',\n",
       " '__reduce__',\n",
       " '__reduce_ex__',\n",
       " '__repr__',\n",
       " '__ror__',\n",
       " '__rsub__',\n",
       " '__rxor__',\n",
       " '__setattr__',\n",
       " '__sizeof__',\n",
       " '__str__',\n",
       " '__sub__',\n",
       " '__subclasshook__',\n",
       " '__xor__',\n",
       " 'add',\n",
       " 'clear',\n",
       " 'copy',\n",
       " 'difference',\n",
       " 'difference_update',\n",
       " 'discard',\n",
       " 'intersection',\n",
       " 'intersection_update',\n",
       " 'isdisjoint',\n",
       " 'issubset',\n",
       " 'issuperset',\n",
       " 'pop',\n",
       " 'remove',\n",
       " 'symmetric_difference',\n",
       " 'symmetric_difference_update',\n",
       " 'union',\n",
       " 'update']"
      ]
     },
     "execution_count": 41,
     "metadata": {},
     "output_type": "execute_result"
    }
   ],
   "source": [
    "dir(set)"
   ]
  },
  {
   "cell_type": "code",
   "execution_count": 42,
   "id": "ef2cbcc9-a7e5-41a5-a2dc-b1dfc7004421",
   "metadata": {},
   "outputs": [],
   "source": [
    "# Property decorator Getter,setter,deleter\n",
    "class pws1:\n",
    "    def __init__(self,course_pri,course_name):\n",
    "        self.__course_pri=course_pri\n",
    "        self.course_name=course_name\n",
    "        \n",
    "    @property\n",
    "    def course_pri_access(self):\n",
    "        return self.__course_pri # give access to see\n",
    "    \n",
    "    \n",
    "    @course_pri_access.setter# give access to make change\n",
    "    def seter(self,price):\n",
    "        if price <= 3500:\n",
    "            pass\n",
    "        else:\n",
    "            self.__course_pri=price\n",
    "            \n",
    "    @course_pri_access.deleter # give access to delete\n",
    "    def dl(self):\n",
    "        del self.__course_pri"
   ]
  },
  {
   "cell_type": "code",
   "execution_count": 43,
   "id": "2b5cfecb-22c7-48c2-9d4c-d1a9754fd5c0",
   "metadata": {},
   "outputs": [],
   "source": [
    "pw101=pws1(3500,'dada')"
   ]
  },
  {
   "cell_type": "code",
   "execution_count": 44,
   "id": "ecd5d83a-2fe4-4a85-90ea-e71bfbd463cb",
   "metadata": {},
   "outputs": [
    {
     "data": {
      "text/plain": [
       "3500"
      ]
     },
     "execution_count": 44,
     "metadata": {},
     "output_type": "execute_result"
    }
   ],
   "source": [
    "pw101.course_pri_access"
   ]
  },
  {
   "cell_type": "code",
   "execution_count": 45,
   "id": "39f2ca87-2605-4696-9e4c-bc7e545ab759",
   "metadata": {},
   "outputs": [
    {
     "data": {
      "text/plain": [
       "'dada'"
      ]
     },
     "execution_count": 45,
     "metadata": {},
     "output_type": "execute_result"
    }
   ],
   "source": [
    "pw101.course_name"
   ]
  },
  {
   "cell_type": "code",
   "execution_count": 46,
   "id": "1ae929e8-6772-48da-a6c9-8610b1207fc9",
   "metadata": {},
   "outputs": [],
   "source": [
    "pw101.seter=4500"
   ]
  },
  {
   "cell_type": "code",
   "execution_count": 47,
   "id": "759995cc-7047-4bb6-834e-8a593009b5da",
   "metadata": {},
   "outputs": [
    {
     "data": {
      "text/plain": [
       "4500"
      ]
     },
     "execution_count": 47,
     "metadata": {},
     "output_type": "execute_result"
    }
   ],
   "source": [
    "pw101.course_pri_access"
   ]
  },
  {
   "cell_type": "code",
   "execution_count": 48,
   "id": "e11eb93a-89ea-4830-80df-d9d364c12580",
   "metadata": {},
   "outputs": [],
   "source": [
    "del pw101.dl"
   ]
  },
  {
   "cell_type": "code",
   "execution_count": 49,
   "id": "9d7a5e42-797c-4f29-9bde-c7b8e2b56748",
   "metadata": {},
   "outputs": [
    {
     "ename": "AttributeError",
     "evalue": "'pws1' object has no attribute '_pws1__course_pri'",
     "output_type": "error",
     "traceback": [
      "\u001b[0;31m---------------------------------------------------------------------------\u001b[0m",
      "\u001b[0;31mAttributeError\u001b[0m                            Traceback (most recent call last)",
      "Cell \u001b[0;32mIn[49], line 1\u001b[0m\n\u001b[0;32m----> 1\u001b[0m \u001b[43mpw101\u001b[49m\u001b[38;5;241;43m.\u001b[39;49m\u001b[43mcourse_pri_access\u001b[49m\n",
      "Cell \u001b[0;32mIn[42], line 9\u001b[0m, in \u001b[0;36mpws1.course_pri_access\u001b[0;34m(self)\u001b[0m\n\u001b[1;32m      7\u001b[0m \u001b[38;5;129m@property\u001b[39m\n\u001b[1;32m      8\u001b[0m \u001b[38;5;28;01mdef\u001b[39;00m \u001b[38;5;21mcourse_pri_access\u001b[39m(\u001b[38;5;28mself\u001b[39m):\n\u001b[0;32m----> 9\u001b[0m     \u001b[38;5;28;01mreturn\u001b[39;00m \u001b[38;5;28;43mself\u001b[39;49m\u001b[38;5;241;43m.\u001b[39;49m\u001b[43m__course_pri\u001b[49m\n",
      "\u001b[0;31mAttributeError\u001b[0m: 'pws1' object has no attribute '_pws1__course_pri'"
     ]
    }
   ],
   "source": [
    "pw101.course_pri_access"
   ]
  },
  {
   "cell_type": "code",
   "execution_count": null,
   "id": "a87509e8-134d-49a9-bbb0-67a2f8931168",
   "metadata": {},
   "outputs": [],
   "source": []
  }
 ],
 "metadata": {
  "kernelspec": {
   "display_name": "Python 3 (ipykernel)",
   "language": "python",
   "name": "python3"
  },
  "language_info": {
   "codemirror_mode": {
    "name": "ipython",
    "version": 3
   },
   "file_extension": ".py",
   "mimetype": "text/x-python",
   "name": "python",
   "nbconvert_exporter": "python",
   "pygments_lexer": "ipython3",
   "version": "3.10.8"
  }
 },
 "nbformat": 4,
 "nbformat_minor": 5
}
