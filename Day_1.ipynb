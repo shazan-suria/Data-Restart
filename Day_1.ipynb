{
 "cells": [
  {
   "cell_type": "code",
   "execution_count": 22,
   "id": "df47fd57-29a1-4f87-b874-8882d4aeb769",
   "metadata": {},
   "outputs": [],
   "source": [
    "# Data day one\n",
    "# Variables:- place where we can store data\n",
    "# Different type of data types like: integer, strings, floating point, complex number, boolean\n",
    "# fetch real and imaginary number from complex number\n",
    "# print(), type(),len() function\n",
    "# some string functions\n",
    "# string indexing"
   ]
  },
  {
   "cell_type": "code",
   "execution_count": 2,
   "id": "94d5eea4-6ea7-4a64-b4c4-47fb731eade0",
   "metadata": {},
   "outputs": [],
   "source": [
    "#variables:-\n",
    "a=10;\n",
    "b='abc'"
   ]
  },
  {
   "cell_type": "code",
   "execution_count": 3,
   "id": "7979f2eb-2d72-4e90-8592-ec19d7b0a0e8",
   "metadata": {},
   "outputs": [
    {
     "name": "stdout",
     "output_type": "stream",
     "text": [
      "10 abc\n"
     ]
    }
   ],
   "source": [
    "print(a,b)\n"
   ]
  },
  {
   "cell_type": "code",
   "execution_count": 4,
   "id": "1c020a09-060c-4edf-aff4-793777cae1d9",
   "metadata": {},
   "outputs": [
    {
     "data": {
      "text/plain": [
       "int"
      ]
     },
     "execution_count": 4,
     "metadata": {},
     "output_type": "execute_result"
    }
   ],
   "source": [
    "# integer:-\n",
    "i=10\n",
    "type(i)"
   ]
  },
  {
   "cell_type": "code",
   "execution_count": 5,
   "id": "0f8b56ba-4a47-4f69-b0d9-c001e9f1c2c1",
   "metadata": {},
   "outputs": [
    {
     "data": {
      "text/plain": [
       "float"
      ]
     },
     "execution_count": 5,
     "metadata": {},
     "output_type": "execute_result"
    }
   ],
   "source": [
    "# float:-\n",
    "f=23.4543\n",
    "type(f)"
   ]
  },
  {
   "cell_type": "code",
   "execution_count": 6,
   "id": "ac9f83f4-7b70-4c60-b048-73ef8dbd6b6d",
   "metadata": {},
   "outputs": [
    {
     "name": "stdout",
     "output_type": "stream",
     "text": [
      "<class 'str'>\n",
      "<class 'str'>\n"
     ]
    }
   ],
   "source": [
    "# string:-\n",
    "st=\"Pwskills\"\n",
    "st_1='Shazan'\n",
    "print(type(st))\n",
    "print(type(st_1))"
   ]
  },
  {
   "cell_type": "code",
   "execution_count": 7,
   "id": "fc69f9c0-bf74-464d-bbc7-0c051473f765",
   "metadata": {},
   "outputs": [
    {
     "data": {
      "text/plain": [
       "complex"
      ]
     },
     "execution_count": 7,
     "metadata": {},
     "output_type": "execute_result"
    }
   ],
   "source": [
    "# complex:-\n",
    "com=4+7j\n",
    "type(com)"
   ]
  },
  {
   "cell_type": "code",
   "execution_count": 8,
   "id": "1308f9c6-8b9d-4bc7-9943-aa856b9e3e5f",
   "metadata": {},
   "outputs": [
    {
     "data": {
      "text/plain": [
       "4.0"
      ]
     },
     "execution_count": 8,
     "metadata": {},
     "output_type": "execute_result"
    }
   ],
   "source": [
    "# real number from complex:-\n",
    "com.real"
   ]
  },
  {
   "cell_type": "code",
   "execution_count": 9,
   "id": "8644f63b-2701-411b-bbfa-d9b129605109",
   "metadata": {},
   "outputs": [
    {
     "data": {
      "text/plain": [
       "7.0"
      ]
     },
     "execution_count": 9,
     "metadata": {},
     "output_type": "execute_result"
    }
   ],
   "source": [
    "# imagineary number from complex:-\n",
    "com.imag"
   ]
  },
  {
   "cell_type": "code",
   "execution_count": 10,
   "id": "ce7c3e7f-44b4-4adb-bfee-3215ad04f1f6",
   "metadata": {},
   "outputs": [
    {
     "data": {
      "text/plain": [
       "bool"
      ]
     },
     "execution_count": 10,
     "metadata": {},
     "output_type": "execute_result"
    }
   ],
   "source": [
    "# boolean:-\n",
    "type(True)#False"
   ]
  },
  {
   "cell_type": "code",
   "execution_count": 11,
   "id": "9ac4c57e-fcb3-4e99-81c3-66c317fd47c7",
   "metadata": {},
   "outputs": [
    {
     "data": {
      "text/plain": [
       "'Pwskills'"
      ]
     },
     "execution_count": 11,
     "metadata": {},
     "output_type": "execute_result"
    }
   ],
   "source": [
    "# string indexing:-\n",
    "st"
   ]
  },
  {
   "cell_type": "code",
   "execution_count": 12,
   "id": "5abbfd08-a8f1-4725-82e1-d9942f2cdf19",
   "metadata": {},
   "outputs": [
    {
     "data": {
      "text/plain": [
       "'l'"
      ]
     },
     "execution_count": 12,
     "metadata": {},
     "output_type": "execute_result"
    }
   ],
   "source": [
    "# forward indexing:-\n",
    "st[5]"
   ]
  },
  {
   "cell_type": "code",
   "execution_count": 13,
   "id": "fb37d053-dd5c-4641-b130-8c084d9710fb",
   "metadata": {},
   "outputs": [
    {
     "data": {
      "text/plain": [
       "'Pwskil'"
      ]
     },
     "execution_count": 13,
     "metadata": {},
     "output_type": "execute_result"
    }
   ],
   "source": [
    "st[0:6]"
   ]
  },
  {
   "cell_type": "code",
   "execution_count": 14,
   "id": "63f65c6b-51de-4ed7-85fb-e9d55cc68b78",
   "metadata": {},
   "outputs": [
    {
     "data": {
      "text/plain": [
       "'Psil'"
      ]
     },
     "execution_count": 14,
     "metadata": {},
     "output_type": "execute_result"
    }
   ],
   "source": [
    "st[::2]"
   ]
  },
  {
   "cell_type": "code",
   "execution_count": 15,
   "id": "355cf37a-e2b3-4dc2-94d2-1dec19c6983d",
   "metadata": {},
   "outputs": [
    {
     "data": {
      "text/plain": [
       "'Pwskills'"
      ]
     },
     "execution_count": 15,
     "metadata": {},
     "output_type": "execute_result"
    }
   ],
   "source": [
    "st[::1]"
   ]
  },
  {
   "cell_type": "code",
   "execution_count": 16,
   "id": "7bcea171-f499-42cb-a654-57ca9e27e716",
   "metadata": {},
   "outputs": [
    {
     "data": {
      "text/plain": [
       "'skills'"
      ]
     },
     "execution_count": 16,
     "metadata": {},
     "output_type": "execute_result"
    }
   ],
   "source": [
    "st[2::]"
   ]
  },
  {
   "cell_type": "code",
   "execution_count": 17,
   "id": "70e6dfa7-0d5e-42fa-a4c7-4e025da72191",
   "metadata": {},
   "outputs": [
    {
     "data": {
      "text/plain": [
       "'s'"
      ]
     },
     "execution_count": 17,
     "metadata": {},
     "output_type": "execute_result"
    }
   ],
   "source": [
    "# backward indexing:-\n",
    "st[-1]"
   ]
  },
  {
   "cell_type": "code",
   "execution_count": 18,
   "id": "30a753fc-d135-4fc3-818d-fa7144d66208",
   "metadata": {},
   "outputs": [
    {
     "data": {
      "text/plain": [
       "'Pwskills'"
      ]
     },
     "execution_count": 18,
     "metadata": {},
     "output_type": "execute_result"
    }
   ],
   "source": [
    "st[-8::]"
   ]
  },
  {
   "cell_type": "code",
   "execution_count": 19,
   "id": "c3338e4d-7e52-43f6-bc4d-7b2b6838811c",
   "metadata": {},
   "outputs": [
    {
     "data": {
      "text/plain": [
       "'Pwskills'"
      ]
     },
     "execution_count": 19,
     "metadata": {},
     "output_type": "execute_result"
    }
   ],
   "source": [
    "st[::1]"
   ]
  },
  {
   "cell_type": "code",
   "execution_count": 21,
   "id": "79822483-a466-4df5-9867-f434ef5e18fb",
   "metadata": {},
   "outputs": [
    {
     "data": {
      "text/plain": [
       "2"
      ]
     },
     "execution_count": 21,
     "metadata": {},
     "output_type": "execute_result"
    }
   ],
   "source": [
    "# string function:-\n",
    "st.find('s')"
   ]
  },
  {
   "cell_type": "code",
   "execution_count": 24,
   "id": "b005bcb9-13c2-4045-995b-71b2975726af",
   "metadata": {},
   "outputs": [
    {
     "data": {
      "text/plain": [
       "3"
      ]
     },
     "execution_count": 24,
     "metadata": {},
     "output_type": "execute_result"
    }
   ],
   "source": [
    "st.find(\"ki\")"
   ]
  },
  {
   "cell_type": "code",
   "execution_count": 25,
   "id": "cedd8af2-df6d-4891-983a-73a034b5a785",
   "metadata": {},
   "outputs": [
    {
     "data": {
      "text/plain": [
       "'Pwskills'"
      ]
     },
     "execution_count": 25,
     "metadata": {},
     "output_type": "execute_result"
    }
   ],
   "source": [
    "st.capitalize()"
   ]
  },
  {
   "cell_type": "code",
   "execution_count": 26,
   "id": "d5bdabf0-2562-4eac-9bfd-293aa6713ebd",
   "metadata": {},
   "outputs": [
    {
     "data": {
      "text/plain": [
       "1"
      ]
     },
     "execution_count": 26,
     "metadata": {},
     "output_type": "execute_result"
    }
   ],
   "source": [
    "st.count(\"ki\")"
   ]
  },
  {
   "cell_type": "code",
   "execution_count": 27,
   "id": "79fa4e78-29e0-49f2-8f50-b03e40946c0a",
   "metadata": {},
   "outputs": [
    {
     "data": {
      "text/plain": [
       "2"
      ]
     },
     "execution_count": 27,
     "metadata": {},
     "output_type": "execute_result"
    }
   ],
   "source": [
    "st.count('s')"
   ]
  },
  {
   "cell_type": "code",
   "execution_count": 28,
   "id": "a531ab30-9b61-4b26-bc79-b0f199623c1b",
   "metadata": {},
   "outputs": [
    {
     "data": {
      "text/plain": [
       "'PWSKILLS'"
      ]
     },
     "execution_count": 28,
     "metadata": {},
     "output_type": "execute_result"
    }
   ],
   "source": [
    "st.upper()"
   ]
  },
  {
   "cell_type": "code",
   "execution_count": 30,
   "id": "e0fbd74b-b830-4da0-9716-59122f0005d5",
   "metadata": {},
   "outputs": [
    {
     "data": {
      "text/plain": [
       "'pwskills'"
      ]
     },
     "execution_count": 30,
     "metadata": {},
     "output_type": "execute_result"
    }
   ],
   "source": [
    "st.lower()"
   ]
  },
  {
   "cell_type": "code",
   "execution_count": 33,
   "id": "19386861-ed35-4e4d-9cd3-b6aaf99c2acc",
   "metadata": {},
   "outputs": [
    {
     "data": {
      "text/plain": [
       "b'Shazan'"
      ]
     },
     "execution_count": 33,
     "metadata": {},
     "output_type": "execute_result"
    }
   ],
   "source": [
    "st_1.encode()"
   ]
  },
  {
   "cell_type": "code",
   "execution_count": 35,
   "id": "f0fb224f-b25b-4a8b-919e-17592489a4f7",
   "metadata": {},
   "outputs": [
    {
     "data": {
      "text/plain": [
       "False"
      ]
     },
     "execution_count": 35,
     "metadata": {},
     "output_type": "execute_result"
    }
   ],
   "source": [
    "st.endswith('l')"
   ]
  },
  {
   "cell_type": "code",
   "execution_count": null,
   "id": "75b5daf8-4a3a-4879-bb44-64ab320303a6",
   "metadata": {},
   "outputs": [],
   "source": []
  }
 ],
 "metadata": {
  "kernelspec": {
   "display_name": "Python 3 (ipykernel)",
   "language": "python",
   "name": "python3"
  },
  "language_info": {
   "codemirror_mode": {
    "name": "ipython",
    "version": 3
   },
   "file_extension": ".py",
   "mimetype": "text/x-python",
   "name": "python",
   "nbconvert_exporter": "python",
   "pygments_lexer": "ipython3",
   "version": "3.10.8"
  }
 },
 "nbformat": 4,
 "nbformat_minor": 5
}
