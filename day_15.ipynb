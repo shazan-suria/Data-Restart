{
 "cells": [
  {
   "cell_type": "code",
   "execution_count": null,
   "id": "d45f2c33-2fc1-41a8-9684-7929e1840bd0",
   "metadata": {},
   "outputs": [],
   "source": [
    "# Data day 15\n",
    "# mysql + python\n",
    "# create,insert,update,select queries "
   ]
  },
  {
   "cell_type": "code",
   "execution_count": null,
   "id": "1afc3822-2f8f-4fb0-ba3b-53f02e5f746f",
   "metadata": {},
   "outputs": [],
   "source": [
    "# query to see all databases\n",
    "\n",
    "# import mysql.connector\n",
    "# mydb = mysql.connector.connect(\n",
    "#   host=\"localhost\",\n",
    "#   user=\"abc\",\n",
    "#   password=\"password\"\n",
    "# )\n",
    "# print(mydb)\n",
    "# mycursor = mydb.cursor()\n",
    "# mycursor.execute(\"SHOW DATABASES\")\n",
    "# for x in mycursor:\n",
    "#   print(x)"
   ]
  },
  {
   "cell_type": "code",
   "execution_count": null,
   "id": "660356de-91d8-42a0-ae2b-0e5d863dc76d",
   "metadata": {},
   "outputs": [],
   "source": [
    "# query to create database\n",
    "\n",
    "# import mysql.connector\n",
    "# mydb = mysql.connector.connect(\n",
    "#   host=\"localhost\",\n",
    "#   user=\"abc\",\n",
    "#   password=\"password\"\n",
    "# )\n",
    "# print(mydb)\n",
    "# mycursor = mydb.cursor()\n",
    "# mycursor.execute(\"create database if not exists test2\")\n",
    "# mydb.close()"
   ]
  },
  {
   "cell_type": "code",
   "execution_count": null,
   "id": "2c64deb5-4d38-40ff-b665-c2adfb898ed9",
   "metadata": {},
   "outputs": [],
   "source": [
    "# query to create table\n",
    "\n",
    "# import mysql.connector\n",
    "# mydb = mysql.connector.connect(\n",
    "#   host=\"localhost\",\n",
    "#   user=\"abc\",\n",
    "#   password=\"password\"\n",
    "# )\n",
    "# print(mydb)\n",
    "# mycursor = mydb.cursor()\n",
    "# mycursor.execute(\"create table if not exists test2.demo(c1 INT,c2 VARCHAR(30))\")\n",
    "# mydb.close()"
   ]
  },
  {
   "cell_type": "code",
   "execution_count": null,
   "id": "80160345-866c-4561-9c95-f21332b880d5",
   "metadata": {},
   "outputs": [],
   "source": [
    "# Query to insert data into table\n",
    "\n",
    "import mysql.connector\n",
    "mydb = mysql.connector.connect(\n",
    "  host=\"localhost\",\n",
    "  user=\"abc\",\n",
    "  password=\"password\"\n",
    ")\n",
    "print(mydb)\n",
    "mycursor = mydb.cursor()\n",
    "mycursor.execute(\"insert into test2.demo values(101,'abc')\")\n",
    "mydb.commit()\n",
    "mydb.close()"
   ]
  }
 ],
 "metadata": {
  "kernelspec": {
   "display_name": "Python 3 (ipykernel)",
   "language": "python",
   "name": "python3"
  },
  "language_info": {
   "codemirror_mode": {
    "name": "ipython",
    "version": 3
   },
   "file_extension": ".py",
   "mimetype": "text/x-python",
   "name": "python",
   "nbconvert_exporter": "python",
   "pygments_lexer": "ipython3",
   "version": "3.10.8"
  }
 },
 "nbformat": 4,
 "nbformat_minor": 5
}
