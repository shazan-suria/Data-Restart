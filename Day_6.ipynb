{
 "cells": [
  {
   "cell_type": "code",
   "execution_count": null,
   "id": "b0e0be1c-2f69-4a61-8059-4c171dd2e00a",
   "metadata": {},
   "outputs": [],
   "source": [
    "# Data Day 6\n",
    "# Generator functon\n",
    "# Lambda Function\n",
    "# Map, Reduce & Filter Function"
   ]
  },
  {
   "cell_type": "code",
   "execution_count": 1,
   "id": "b14bc64f-a259-4bee-b8bf-863988151a51",
   "metadata": {},
   "outputs": [],
   "source": [
    "# Generator Function\n",
    "def Fibonacci(n):\n",
    "    a,b=0,1\n",
    "    for i in range(n):\n",
    "        yield a\n",
    "        a,b = b, a+b"
   ]
  },
  {
   "cell_type": "code",
   "execution_count": 2,
   "id": "0299ec53-1c40-4ed1-ad85-e27886c23a7d",
   "metadata": {},
   "outputs": [
    {
     "data": {
      "text/plain": [
       "<generator object Fibonacci at 0x7f18882c0c80>"
      ]
     },
     "execution_count": 2,
     "metadata": {},
     "output_type": "execute_result"
    }
   ],
   "source": [
    "Fibonacci(10)"
   ]
  },
  {
   "cell_type": "code",
   "execution_count": 3,
   "id": "752a86fd-f7ad-4759-a1d0-71cb997db2a3",
   "metadata": {},
   "outputs": [
    {
     "name": "stdout",
     "output_type": "stream",
     "text": [
      "0\n",
      "1\n",
      "1\n",
      "2\n",
      "3\n",
      "5\n",
      "8\n",
      "13\n",
      "21\n",
      "34\n"
     ]
    }
   ],
   "source": [
    "for i in Fibonacci(10):\n",
    "    print(i)"
   ]
  },
  {
   "cell_type": "code",
   "execution_count": 13,
   "id": "8a76a1b4-9a3a-4c4a-9a46-bcf1c2f2ce89",
   "metadata": {},
   "outputs": [],
   "source": [
    "def fib():\n",
    "    a,b  = 0,1\n",
    "    while(True):\n",
    "        yield a\n",
    "        a,b  = b, a+b"
   ]
  },
  {
   "cell_type": "code",
   "execution_count": 14,
   "id": "3f53bab8-e1b4-4ec9-b0ce-53b5cd7d8ece",
   "metadata": {},
   "outputs": [],
   "source": [
    "fibo=fib()"
   ]
  },
  {
   "cell_type": "code",
   "execution_count": 16,
   "id": "2059d6d0-a58a-4d21-ba0a-4e5da996f01f",
   "metadata": {},
   "outputs": [
    {
     "data": {
      "text/plain": [
       "generator"
      ]
     },
     "execution_count": 16,
     "metadata": {},
     "output_type": "execute_result"
    }
   ],
   "source": [
    "type(fibo)"
   ]
  },
  {
   "cell_type": "code",
   "execution_count": 15,
   "id": "69e38831-241c-4fd8-a728-4e292bcaa775",
   "metadata": {},
   "outputs": [
    {
     "name": "stdout",
     "output_type": "stream",
     "text": [
      "0\n",
      "1\n",
      "1\n",
      "2\n",
      "3\n",
      "5\n",
      "8\n",
      "13\n",
      "21\n",
      "34\n"
     ]
    }
   ],
   "source": [
    "for i in range(10):\n",
    "    print(next(fibo))"
   ]
  },
  {
   "cell_type": "code",
   "execution_count": 17,
   "id": "13d7038a-1b09-4a53-aa07-dd49deefd0ff",
   "metadata": {},
   "outputs": [],
   "source": [
    "s='abcd'"
   ]
  },
  {
   "cell_type": "code",
   "execution_count": 18,
   "id": "ac7eb44b-bf35-4719-994b-fce02fddad76",
   "metadata": {},
   "outputs": [
    {
     "ename": "TypeError",
     "evalue": "'str' object is not an iterator",
     "output_type": "error",
     "traceback": [
      "\u001b[0;31m---------------------------------------------------------------------------\u001b[0m",
      "\u001b[0;31mTypeError\u001b[0m                                 Traceback (most recent call last)",
      "Cell \u001b[0;32mIn[18], line 1\u001b[0m\n\u001b[0;32m----> 1\u001b[0m \u001b[38;5;28;43mnext\u001b[39;49m\u001b[43m(\u001b[49m\u001b[43ms\u001b[49m\u001b[43m)\u001b[49m\n",
      "\u001b[0;31mTypeError\u001b[0m: 'str' object is not an iterator"
     ]
    }
   ],
   "source": [
    "next(s)"
   ]
  },
  {
   "cell_type": "code",
   "execution_count": 21,
   "id": "7ef16d2f-ede8-4491-aa48-cd4f686afae5",
   "metadata": {},
   "outputs": [],
   "source": [
    "s1=iter(s)"
   ]
  },
  {
   "cell_type": "code",
   "execution_count": 22,
   "id": "9c5244b6-6679-4408-866f-49d4e1245f08",
   "metadata": {},
   "outputs": [
    {
     "data": {
      "text/plain": [
       "'a'"
      ]
     },
     "execution_count": 22,
     "metadata": {},
     "output_type": "execute_result"
    }
   ],
   "source": [
    "next(s1)"
   ]
  },
  {
   "cell_type": "code",
   "execution_count": 23,
   "id": "792aa9e5-5c80-4b7a-acef-6ca7888e1583",
   "metadata": {},
   "outputs": [
    {
     "data": {
      "text/plain": [
       "'b'"
      ]
     },
     "execution_count": 23,
     "metadata": {},
     "output_type": "execute_result"
    }
   ],
   "source": [
    "next(s1)"
   ]
  },
  {
   "cell_type": "code",
   "execution_count": 24,
   "id": "c63764a3-85ec-4fc9-a82d-286e715a9bf6",
   "metadata": {},
   "outputs": [
    {
     "data": {
      "text/plain": [
       "str_iterator"
      ]
     },
     "execution_count": 24,
     "metadata": {},
     "output_type": "execute_result"
    }
   ],
   "source": [
    "type(s1)"
   ]
  },
  {
   "cell_type": "code",
   "execution_count": 27,
   "id": "c5232cde-b299-4499-b010-b1e1058b9a8d",
   "metadata": {},
   "outputs": [],
   "source": [
    "# lambda function\n",
    "f1 = lambda n , p : n**p"
   ]
  },
  {
   "cell_type": "code",
   "execution_count": 34,
   "id": "c5f6b9d9-b0da-4ca5-9399-1b032fa93232",
   "metadata": {},
   "outputs": [
    {
     "data": {
      "text/plain": [
       "1024"
      ]
     },
     "execution_count": 34,
     "metadata": {},
     "output_type": "execute_result"
    }
   ],
   "source": [
    "f1(2,10)"
   ]
  },
  {
   "cell_type": "code",
   "execution_count": 36,
   "id": "6c64fbca-89f2-48f1-b02d-0177d61d4ad4",
   "metadata": {},
   "outputs": [
    {
     "data": {
      "text/plain": [
       "[4, 9, 16, 25, 36]"
      ]
     },
     "execution_count": 36,
     "metadata": {},
     "output_type": "execute_result"
    }
   ],
   "source": [
    "# Map\n",
    "l=[2,3,4,5,6]\n",
    "list(map(lambda x : x**2 ,l))"
   ]
  },
  {
   "cell_type": "code",
   "execution_count": 37,
   "id": "586ef02e-eb92-4310-bece-cde200fa789b",
   "metadata": {},
   "outputs": [],
   "source": [
    "# Reduce\n",
    "from functools import reduce"
   ]
  },
  {
   "cell_type": "code",
   "execution_count": 38,
   "id": "152aabba-abf4-41f8-91f6-843860c2b29f",
   "metadata": {},
   "outputs": [],
   "source": [
    "l=[1,2,3,4,5]"
   ]
  },
  {
   "cell_type": "code",
   "execution_count": 41,
   "id": "6c27de10-e122-4090-b4bf-460aa514d292",
   "metadata": {},
   "outputs": [
    {
     "data": {
      "text/plain": [
       "15"
      ]
     },
     "execution_count": 41,
     "metadata": {},
     "output_type": "execute_result"
    }
   ],
   "source": [
    "reduce(lambda x,y :x+y,l)"
   ]
  },
  {
   "cell_type": "code",
   "execution_count": 42,
   "id": "a25c83dd-4920-491b-8442-4dc2c1ffcc71",
   "metadata": {},
   "outputs": [
    {
     "data": {
      "text/plain": [
       "120"
      ]
     },
     "execution_count": 42,
     "metadata": {},
     "output_type": "execute_result"
    }
   ],
   "source": [
    "reduce(lambda x,y: x*y,l)"
   ]
  },
  {
   "cell_type": "code",
   "execution_count": 43,
   "id": "d301aa13-904e-464b-b95a-f0ed3245c829",
   "metadata": {},
   "outputs": [
    {
     "data": {
      "text/plain": [
       "[2, 4]"
      ]
     },
     "execution_count": 43,
     "metadata": {},
     "output_type": "execute_result"
    }
   ],
   "source": [
    "# Filter Function\n",
    "list(filter(lambda x: x%2==0,l))"
   ]
  },
  {
   "cell_type": "code",
   "execution_count": 47,
   "id": "069aa0ec-39e1-44c9-b528-77f21c754159",
   "metadata": {},
   "outputs": [],
   "source": [
    "l1=[-1,-4,-5,6,7,4,-7,3,5,-7]"
   ]
  },
  {
   "cell_type": "code",
   "execution_count": 48,
   "id": "30ea83c2-42a9-4e57-83fb-aa06def6a1a5",
   "metadata": {},
   "outputs": [
    {
     "data": {
      "text/plain": [
       "[-1, -4, -5, -7, -7]"
      ]
     },
     "execution_count": 48,
     "metadata": {},
     "output_type": "execute_result"
    }
   ],
   "source": [
    "list(filter(lambda x:x<0,l1))"
   ]
  },
  {
   "cell_type": "code",
   "execution_count": null,
   "id": "5353951b-73ed-4735-af58-0dce8b359381",
   "metadata": {},
   "outputs": [],
   "source": []
  }
 ],
 "metadata": {
  "kernelspec": {
   "display_name": "Python 3 (ipykernel)",
   "language": "python",
   "name": "python3"
  },
  "language_info": {
   "codemirror_mode": {
    "name": "ipython",
    "version": 3
   },
   "file_extension": ".py",
   "mimetype": "text/x-python",
   "name": "python",
   "nbconvert_exporter": "python",
   "pygments_lexer": "ipython3",
   "version": "3.10.8"
  }
 },
 "nbformat": 4,
 "nbformat_minor": 5
}
