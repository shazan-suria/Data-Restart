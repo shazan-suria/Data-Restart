{
 "cells": [
  {
   "cell_type": "code",
   "execution_count": 1,
   "id": "a26d13e3-83d4-4b63-b681-49e4849231ff",
   "metadata": {},
   "outputs": [],
   "source": [
    "# data Day 5\n",
    "# while loop\n",
    "# while else loop\n",
    "# comprehension operation\n",
    "# functions"
   ]
  },
  {
   "cell_type": "code",
   "execution_count": 2,
   "id": "243af8be-0810-4299-95aa-6f54ca0025af",
   "metadata": {},
   "outputs": [
    {
     "name": "stdout",
     "output_type": "stream",
     "text": [
      "1\n",
      "2\n",
      "3\n",
      "4\n",
      "5\n",
      "6\n",
      "7\n",
      "8\n",
      "9\n",
      "10\n"
     ]
    }
   ],
   "source": [
    "a=1\n",
    "while (a<=10):\n",
    "    print(a)\n",
    "    a+=1"
   ]
  },
  {
   "cell_type": "code",
   "execution_count": 3,
   "id": "b9ed8706-1eac-45fb-a776-f0ea53bba175",
   "metadata": {},
   "outputs": [
    {
     "name": "stdin",
     "output_type": "stream",
     "text": [
      "Enter positive value up to which you want the sum 10\n"
     ]
    },
    {
     "name": "stdout",
     "output_type": "stream",
     "text": [
      "55\n"
     ]
    }
   ],
   "source": [
    "s=0\n",
    "a=int(input(\"Enter positive value up to which you want the sum\"))\n",
    "st=1\n",
    "while(st<=a):\n",
    "    s=s+st\n",
    "    st+=1\n",
    "print(s)"
   ]
  },
  {
   "cell_type": "code",
   "execution_count": 4,
   "id": "b29fc3b8-9e0a-4a7f-8f95-f842f40a52a4",
   "metadata": {},
   "outputs": [
    {
     "name": "stdin",
     "output_type": "stream",
     "text": [
      "Enter value whose factorial you want 5\n"
     ]
    },
    {
     "name": "stdout",
     "output_type": "stream",
     "text": [
      "120\n"
     ]
    }
   ],
   "source": [
    "num=int(input(\"Enter value whose factorial you want\"))\n",
    "fect=1\n",
    "while(num>0):\n",
    "    fect=fect*num\n",
    "    num-=1\n",
    "print(fect)"
   ]
  },
  {
   "cell_type": "code",
   "execution_count": 5,
   "id": "5e898e23-d5cb-4b36-bbbd-84d5bbc8a966",
   "metadata": {},
   "outputs": [
    {
     "name": "stdin",
     "output_type": "stream",
     "text": [
      "Enter how many digits of fibonacci series you want 10\n"
     ]
    },
    {
     "name": "stdout",
     "output_type": "stream",
     "text": [
      "0\n",
      "1\n",
      "1\n",
      "2\n",
      "3\n",
      "5\n",
      "8\n",
      "13\n",
      "21\n",
      "34\n"
     ]
    }
   ],
   "source": [
    "#fibonacci series\n",
    "num1=0\n",
    "num2=1\n",
    "n=int(input(\"Enter how many digits of fibonacci series you want\"))\n",
    "while(n>0):\n",
    "    print(num1)\n",
    "    num3=num1+num2\n",
    "    num1=num2\n",
    "    num2=num3\n",
    "    n-=1"
   ]
  },
  {
   "cell_type": "code",
   "execution_count": 6,
   "id": "abdee2a3-fc9d-48c1-8751-c16db92e587c",
   "metadata": {},
   "outputs": [
    {
     "name": "stdout",
     "output_type": "stream",
     "text": [
      "1\n",
      "2\n",
      "3\n",
      "4\n",
      "5\n",
      "This will execute when while will execute completely\n"
     ]
    }
   ],
   "source": [
    "n=5\n",
    "i=1\n",
    "while(i<=n):\n",
    "    print(i)\n",
    "    i+=1\n",
    "else:\n",
    "    print(\"This will execute when while will execute completely\")"
   ]
  },
  {
   "cell_type": "code",
   "execution_count": 7,
   "id": "e4aff3ba-3d66-4862-89ad-f437af4d0528",
   "metadata": {},
   "outputs": [
    {
     "name": "stdout",
     "output_type": "stream",
     "text": [
      "1\n",
      "2\n",
      "3\n"
     ]
    }
   ],
   "source": [
    "n=5\n",
    "i=1\n",
    "while(i<=n):\n",
    "    if(i==4):\n",
    "        break\n",
    "    print(i)\n",
    "    i+=1\n",
    "else:\n",
    "    print(\"This will execute when while will execute completely\")"
   ]
  },
  {
   "cell_type": "code",
   "execution_count": 8,
   "id": "1bcbc507-994b-41c3-8625-f1e2c44a648e",
   "metadata": {},
   "outputs": [
    {
     "data": {
      "text/plain": [
       "[1, 4, 9, 16, 25, 36, 49, 64, 81, 100]"
      ]
     },
     "execution_count": 8,
     "metadata": {},
     "output_type": "execute_result"
    }
   ],
   "source": [
    "# comprehension\n",
    "[i**2 for i in range(1,11)]"
   ]
  },
  {
   "cell_type": "code",
   "execution_count": 9,
   "id": "5b73b4f3-d19e-4b0f-8ec6-27c086b1adc6",
   "metadata": {},
   "outputs": [
    {
     "data": {
      "text/plain": [
       "[4, 16, 36, 64, 100]"
      ]
     },
     "execution_count": 9,
     "metadata": {},
     "output_type": "execute_result"
    }
   ],
   "source": [
    "[i**2 for i in range(1,11) if i % 2 ==0]"
   ]
  },
  {
   "cell_type": "code",
   "execution_count": 10,
   "id": "3c0a5e89-f5e2-4bc5-a987-b5972efb5c7d",
   "metadata": {},
   "outputs": [],
   "source": [
    "l=list(range(1,10))"
   ]
  },
  {
   "cell_type": "code",
   "execution_count": 11,
   "id": "487f66e2-0eb0-4072-8d8d-ea199d7e5134",
   "metadata": {},
   "outputs": [
    {
     "data": {
      "text/plain": [
       "[1, 2, 3, 4, 5, 6, 7, 8, 9]"
      ]
     },
     "execution_count": 11,
     "metadata": {},
     "output_type": "execute_result"
    }
   ],
   "source": [
    "l"
   ]
  },
  {
   "cell_type": "code",
   "execution_count": 12,
   "id": "5679a009-062c-45b8-944f-df28d9fec677",
   "metadata": {},
   "outputs": [],
   "source": [
    "d={'1':1,'2':2,\"3\":3}"
   ]
  },
  {
   "cell_type": "code",
   "execution_count": 13,
   "id": "73b898d2-6e1b-43ce-9305-efe35e187809",
   "metadata": {},
   "outputs": [
    {
     "data": {
      "text/plain": [
       "{'1': 1, '2': 4, '3': 9}"
      ]
     },
     "execution_count": 13,
     "metadata": {},
     "output_type": "execute_result"
    }
   ],
   "source": [
    "{k:v**2 for k,v in d.items()}"
   ]
  },
  {
   "cell_type": "code",
   "execution_count": 14,
   "id": "230295c4-3bec-46cf-8dec-347eef88ca1f",
   "metadata": {},
   "outputs": [],
   "source": [
    "def test():\n",
    "    print(\"hello this is python programing\")"
   ]
  },
  {
   "cell_type": "code",
   "execution_count": 15,
   "id": "9b5e2d2c-c049-48f8-8472-e120c142673b",
   "metadata": {},
   "outputs": [
    {
     "name": "stdout",
     "output_type": "stream",
     "text": [
      "hello this is python programing\n"
     ]
    }
   ],
   "source": [
    "test()"
   ]
  },
  {
   "cell_type": "code",
   "execution_count": 16,
   "id": "bddb0a04-e0fc-4461-b1fc-a7ce071096f2",
   "metadata": {},
   "outputs": [
    {
     "name": "stdout",
     "output_type": "stream",
     "text": [
      "hello this is python programing\n"
     ]
    },
    {
     "data": {
      "text/plain": [
       "NoneType"
      ]
     },
     "execution_count": 16,
     "metadata": {},
     "output_type": "execute_result"
    }
   ],
   "source": [
    "type(test())"
   ]
  },
  {
   "cell_type": "code",
   "execution_count": 17,
   "id": "b34e218e-2d61-4293-a891-1717fe029097",
   "metadata": {},
   "outputs": [],
   "source": [
    "def test1():\n",
    "    return(\"hello this is python programing\")"
   ]
  },
  {
   "cell_type": "code",
   "execution_count": 18,
   "id": "284610fa-e323-4635-99a9-2d4b0ba8a452",
   "metadata": {},
   "outputs": [
    {
     "data": {
      "text/plain": [
       "'hello this is python programing'"
      ]
     },
     "execution_count": 18,
     "metadata": {},
     "output_type": "execute_result"
    }
   ],
   "source": [
    "test1()"
   ]
  },
  {
   "cell_type": "code",
   "execution_count": 19,
   "id": "dd673dff-1114-4fe2-8cb3-d990ffe041a5",
   "metadata": {},
   "outputs": [],
   "source": [
    "def test2(a,b,c):\n",
    "    return(a+b+c)"
   ]
  },
  {
   "cell_type": "code",
   "execution_count": 20,
   "id": "11b9a528-2f4f-4840-9764-e09c2c6f878d",
   "metadata": {},
   "outputs": [
    {
     "ename": "TypeError",
     "evalue": "test2() missing 3 required positional arguments: 'a', 'b', and 'c'",
     "output_type": "error",
     "traceback": [
      "\u001b[0;31m---------------------------------------------------------------------------\u001b[0m",
      "\u001b[0;31mTypeError\u001b[0m                                 Traceback (most recent call last)",
      "Cell \u001b[0;32mIn[20], line 1\u001b[0m\n\u001b[0;32m----> 1\u001b[0m \u001b[43mtest2\u001b[49m\u001b[43m(\u001b[49m\u001b[43m)\u001b[49m\n",
      "\u001b[0;31mTypeError\u001b[0m: test2() missing 3 required positional arguments: 'a', 'b', and 'c'"
     ]
    }
   ],
   "source": [
    "test2()"
   ]
  },
  {
   "cell_type": "code",
   "execution_count": 21,
   "id": "43283b58-cc54-4d81-919d-43c8a0e1d11e",
   "metadata": {},
   "outputs": [
    {
     "data": {
      "text/plain": [
       "11"
      ]
     },
     "execution_count": 21,
     "metadata": {},
     "output_type": "execute_result"
    }
   ],
   "source": [
    "test2(2,4,5)"
   ]
  },
  {
   "cell_type": "code",
   "execution_count": 22,
   "id": "028c4f45-0d9e-4d69-b791-5b8a72f4477d",
   "metadata": {},
   "outputs": [],
   "source": [
    "def test3(*args):\n",
    "    return(args)"
   ]
  },
  {
   "cell_type": "code",
   "execution_count": 23,
   "id": "88ffcf03-2d22-43dd-84f6-f5215dac5326",
   "metadata": {},
   "outputs": [
    {
     "data": {
      "text/plain": [
       "()"
      ]
     },
     "execution_count": 23,
     "metadata": {},
     "output_type": "execute_result"
    }
   ],
   "source": [
    "test3()"
   ]
  },
  {
   "cell_type": "code",
   "execution_count": 24,
   "id": "e76b5669-f23f-4614-bba3-334e261806f9",
   "metadata": {},
   "outputs": [
    {
     "data": {
      "text/plain": [
       "(1, 2, 3, 4, 'dbsdffhf', {2, 5, 53, 64}, [24, 78, 5, 2, 4], 4.7765, (54+6j))"
      ]
     },
     "execution_count": 24,
     "metadata": {},
     "output_type": "execute_result"
    }
   ],
   "source": [
    "test3(1,2,3,4,'dbsdffhf',{2,5,64,53},[24,78,5,2,4],4.7765,54+6j)"
   ]
  },
  {
   "cell_type": "code",
   "execution_count": 25,
   "id": "276ea55f-3012-4297-96de-d6a3aece71a2",
   "metadata": {},
   "outputs": [],
   "source": [
    "def test4(**kv):\n",
    "    return(kv)"
   ]
  },
  {
   "cell_type": "code",
   "execution_count": 26,
   "id": "788139a3-a380-4fc2-a85c-614b2bb8541d",
   "metadata": {},
   "outputs": [
    {
     "data": {
      "text/plain": [
       "{}"
      ]
     },
     "execution_count": 26,
     "metadata": {},
     "output_type": "execute_result"
    }
   ],
   "source": [
    "test4()"
   ]
  }
 ],
 "metadata": {
  "kernelspec": {
   "display_name": "Python 3 (ipykernel)",
   "language": "python",
   "name": "python3"
  },
  "language_info": {
   "codemirror_mode": {
    "name": "ipython",
    "version": 3
   },
   "file_extension": ".py",
   "mimetype": "text/x-python",
   "name": "python",
   "nbconvert_exporter": "python",
   "pygments_lexer": "ipython3",
   "version": "3.10.8"
  }
 },
 "nbformat": 4,
 "nbformat_minor": 5
}
