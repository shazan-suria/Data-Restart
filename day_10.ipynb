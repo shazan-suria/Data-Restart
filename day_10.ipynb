{
 "cells": [
  {
   "cell_type": "code",
   "execution_count": 1,
   "id": "c54983f9-77ae-4768-a7f6-fe5d852e64d2",
   "metadata": {},
   "outputs": [],
   "source": [
    "# Data day 10\n",
    "# Working with files:-\n",
    "# Writing in file\n",
    "# reading in file\n",
    "# appending in file\n",
    "# os module\n",
    "# shutill module\n",
    "# json module:reading and writing in json file\n",
    "# csv module:reading abd writing in csv file\n",
    "# reading and witing in binary file\n",
    "# buffered and write\n",
    "# logging & debugging"
   ]
  },
  {
   "cell_type": "code",
   "execution_count": 2,
   "id": "5ca2e5b2-09c8-4048-82ef-2413a60385ba",
   "metadata": {},
   "outputs": [],
   "source": [
    "f=open('test.txt','w')"
   ]
  },
  {
   "cell_type": "code",
   "execution_count": 3,
   "id": "0dc9584c-6a91-4397-9996-66b7230ca0c9",
   "metadata": {},
   "outputs": [
    {
     "data": {
      "text/plain": [
       "'/home/jovyan/work'"
      ]
     },
     "execution_count": 3,
     "metadata": {},
     "output_type": "execute_result"
    }
   ],
   "source": [
    "pwd"
   ]
  },
  {
   "cell_type": "code",
   "execution_count": 4,
   "id": "130e34a5-3d4e-4991-aa82-e8fa604dea6b",
   "metadata": {},
   "outputs": [
    {
     "name": "stdout",
     "output_type": "stream",
     "text": [
      "day_10.ipynb  Day_3.ipynb  Day_6.ipynb  Day_9.ipynb  test1.log\n",
      "Day_1.ipynb   Day_4.ipynb  Day_7.ipynb  \u001b[0m\u001b[01;34mfile\u001b[0m/        test.txt\n",
      "Day_2.ipynb   Day_5.ipynb  Day_8.ipynb  \u001b[01;34mlogging\u001b[0m/\n"
     ]
    }
   ],
   "source": [
    "ls"
   ]
  },
  {
   "cell_type": "code",
   "execution_count": 5,
   "id": "a1ab65c2-e13b-43d6-aa11-1482fc392117",
   "metadata": {},
   "outputs": [
    {
     "name": "stdout",
     "output_type": "stream",
     "text": [
      "/home/jovyan/work/file\n"
     ]
    }
   ],
   "source": [
    "cd file"
   ]
  },
  {
   "cell_type": "code",
   "execution_count": 6,
   "id": "94b34d96-5e92-4dd8-8fda-127bbfa7eb49",
   "metadata": {},
   "outputs": [],
   "source": [
    "ls"
   ]
  },
  {
   "cell_type": "code",
   "execution_count": 7,
   "id": "d546c791-2594-451f-8d72-032517076a30",
   "metadata": {},
   "outputs": [
    {
     "data": {
      "text/plain": [
       "12"
      ]
     },
     "execution_count": 7,
     "metadata": {},
     "output_type": "execute_result"
    }
   ],
   "source": [
    "f.write('This my file')"
   ]
  },
  {
   "cell_type": "code",
   "execution_count": 8,
   "id": "4fdf4a66-a7ea-42d0-91d9-f64a8ffd1753",
   "metadata": {},
   "outputs": [],
   "source": [
    "f.close()"
   ]
  },
  {
   "cell_type": "code",
   "execution_count": 9,
   "id": "65ba0334-9c02-42d8-b867-31cf6021d0df",
   "metadata": {},
   "outputs": [],
   "source": [
    "f=open('test.txt','w')"
   ]
  },
  {
   "cell_type": "code",
   "execution_count": 10,
   "id": "939bb89f-b2b5-4a73-b0f5-b9d90dfd324e",
   "metadata": {},
   "outputs": [
    {
     "name": "stdout",
     "output_type": "stream",
     "text": [
      "test.txt\n"
     ]
    }
   ],
   "source": [
    "ls"
   ]
  },
  {
   "cell_type": "code",
   "execution_count": 11,
   "id": "39ceaf88-27ae-484a-bb30-339ae1a6ac0b",
   "metadata": {},
   "outputs": [
    {
     "data": {
      "text/plain": [
       "19"
      ]
     },
     "execution_count": 11,
     "metadata": {},
     "output_type": "execute_result"
    }
   ],
   "source": [
    "f.write('this is my new file')"
   ]
  },
  {
   "cell_type": "code",
   "execution_count": 12,
   "id": "593847eb-2e3a-4c91-8660-882826ea515e",
   "metadata": {},
   "outputs": [],
   "source": [
    "f.close()"
   ]
  },
  {
   "cell_type": "code",
   "execution_count": 13,
   "id": "c18829ed-a759-4158-a74b-14c80e358ad0",
   "metadata": {},
   "outputs": [],
   "source": [
    "f=open('test.txt','a')"
   ]
  },
  {
   "cell_type": "code",
   "execution_count": 14,
   "id": "b8e5d890-3109-4b50-b8a6-b8899e042d2a",
   "metadata": {},
   "outputs": [
    {
     "data": {
      "text/plain": [
       "765"
      ]
     },
     "execution_count": 14,
     "metadata": {},
     "output_type": "execute_result"
    }
   ],
   "source": [
    "f.write(\"Data Science Masters course is highly curated and uniquely designed according to the latest industry standards. This program instills students the skills essential to knowledge discovery efforts to identify standard, novel, and truly differentiated solutions and decision-making, including skills in managing, querying, analyzing, visualizing, and extracting meaning from extremely large data sets. This trending program provides students with the statistical, mathematical and computational skills needed to meet the large-scale data science challenges of today's professional world. You will learn all the stack required to work in data science industry including cloud infrastructure and real-time industry projects. This course will be taught in Hindi language.\")"
   ]
  },
  {
   "cell_type": "code",
   "execution_count": 15,
   "id": "2ca42011-7b73-48d1-b52e-e8f7450d6870",
   "metadata": {},
   "outputs": [],
   "source": [
    "f.close()"
   ]
  },
  {
   "cell_type": "code",
   "execution_count": 16,
   "id": "fd70fdfb-737b-4d90-a807-210301ea8668",
   "metadata": {},
   "outputs": [],
   "source": [
    "f=open('test.txt','r')"
   ]
  },
  {
   "cell_type": "code",
   "execution_count": 17,
   "id": "d82d0094-3ce8-44ba-9632-1e8e47722456",
   "metadata": {},
   "outputs": [
    {
     "data": {
      "text/plain": [
       "\"this is my new fileData Science Masters course is highly curated and uniquely designed according to the latest industry standards. This program instills students the skills essential to knowledge discovery efforts to identify standard, novel, and truly differentiated solutions and decision-making, including skills in managing, querying, analyzing, visualizing, and extracting meaning from extremely large data sets. This trending program provides students with the statistical, mathematical and computational skills needed to meet the large-scale data science challenges of today's professional world. You will learn all the stack required to work in data science industry including cloud infrastructure and real-time industry projects. This course will be taught in Hindi language.\""
      ]
     },
     "execution_count": 17,
     "metadata": {},
     "output_type": "execute_result"
    }
   ],
   "source": [
    "f.read()"
   ]
  },
  {
   "cell_type": "code",
   "execution_count": 18,
   "id": "d514cf23-1190-4a4e-8c4c-008487336683",
   "metadata": {},
   "outputs": [
    {
     "data": {
      "text/plain": [
       "0"
      ]
     },
     "execution_count": 18,
     "metadata": {},
     "output_type": "execute_result"
    }
   ],
   "source": [
    "f.seek(0)"
   ]
  },
  {
   "cell_type": "code",
   "execution_count": 19,
   "id": "8931737e-5fec-41fe-9c2d-efd2afcc1e6d",
   "metadata": {},
   "outputs": [
    {
     "data": {
      "text/plain": [
       "\"this is my new fileData Science Masters course is highly curated and uniquely designed according to the latest industry standards. This program instills students the skills essential to knowledge discovery efforts to identify standard, novel, and truly differentiated solutions and decision-making, including skills in managing, querying, analyzing, visualizing, and extracting meaning from extremely large data sets. This trending program provides students with the statistical, mathematical and computational skills needed to meet the large-scale data science challenges of today's professional world. You will learn all the stack required to work in data science industry including cloud infrastructure and real-time industry projects. This course will be taught in Hindi language.\""
      ]
     },
     "execution_count": 19,
     "metadata": {},
     "output_type": "execute_result"
    }
   ],
   "source": [
    "f.readline()"
   ]
  },
  {
   "cell_type": "code",
   "execution_count": 20,
   "id": "83fcbe4b-60f8-45d2-a881-eeea14b779ac",
   "metadata": {},
   "outputs": [],
   "source": [
    "import os"
   ]
  },
  {
   "cell_type": "code",
   "execution_count": 21,
   "id": "f4c0e772-096d-4280-ae52-68144694a959",
   "metadata": {},
   "outputs": [
    {
     "data": {
      "text/plain": [
       "784"
      ]
     },
     "execution_count": 21,
     "metadata": {},
     "output_type": "execute_result"
    }
   ],
   "source": [
    "os.path.getsize(\"test.txt\")"
   ]
  },
  {
   "cell_type": "code",
   "execution_count": 22,
   "id": "8f456c0a-a777-48b2-a3e0-b5d9fd5c3447",
   "metadata": {},
   "outputs": [],
   "source": [
    "os.remove('test.txt')"
   ]
  },
  {
   "cell_type": "code",
   "execution_count": 23,
   "id": "cdad2aaa-3650-4752-930b-659f615d3e84",
   "metadata": {},
   "outputs": [],
   "source": [
    "f=open('test.txt','w')"
   ]
  },
  {
   "cell_type": "code",
   "execution_count": 24,
   "id": "3cc5d2f8-fda3-41f6-8fe2-8496ecf01b74",
   "metadata": {},
   "outputs": [
    {
     "data": {
      "text/plain": [
       "784"
      ]
     },
     "execution_count": 24,
     "metadata": {},
     "output_type": "execute_result"
    }
   ],
   "source": [
    "f.write(\"this is my new fileData Science Masters course is highly curated and uniquely designed according to the latest industry standards. This program instills students the skills essential to knowledge discovery efforts to identify standard, novel, and truly differentiated solutions and decision-making, including skills in managing, querying, analyzing, visualizing, and extracting meaning from extremely large data sets. This trending program provides students with the statistical, mathematical and computational skills needed to meet the large-scale data science challenges of today's professional world. You will learn all the stack required to work in data science industry including cloud infrastructure and real-time industry projects. This course will be taught in Hindi language.\")"
   ]
  },
  {
   "cell_type": "code",
   "execution_count": 25,
   "id": "ae280dd4-e1eb-4758-9c40-25012e5dc37f",
   "metadata": {},
   "outputs": [
    {
     "name": "stdout",
     "output_type": "stream",
     "text": [
      "test.txt\n"
     ]
    }
   ],
   "source": [
    "ls"
   ]
  },
  {
   "cell_type": "code",
   "execution_count": 26,
   "id": "a0ea27bb-9341-4890-85c7-68e2a4211bd5",
   "metadata": {},
   "outputs": [],
   "source": [
    "f.close()"
   ]
  },
  {
   "cell_type": "code",
   "execution_count": 27,
   "id": "730fcd10-187d-4782-8ac5-976975aebbb4",
   "metadata": {},
   "outputs": [],
   "source": [
    "os.rename('test.txt','text.txt')"
   ]
  },
  {
   "cell_type": "code",
   "execution_count": 28,
   "id": "ba8121ee-9505-41d1-bbfe-4c2a30a95f6c",
   "metadata": {},
   "outputs": [],
   "source": [
    "import shutil"
   ]
  },
  {
   "cell_type": "code",
   "execution_count": 29,
   "id": "086bcfc8-deee-44e8-8589-77df0e9271f4",
   "metadata": {},
   "outputs": [
    {
     "data": {
      "text/plain": [
       "'copy_text.txt'"
      ]
     },
     "execution_count": 29,
     "metadata": {},
     "output_type": "execute_result"
    }
   ],
   "source": [
    "shutil.copy('text.txt',\"copy_text.txt\")"
   ]
  },
  {
   "cell_type": "code",
   "execution_count": 30,
   "id": "e6e1a19b-39e1-497c-bbe6-6950fcd457b7",
   "metadata": {},
   "outputs": [
    {
     "name": "stdout",
     "output_type": "stream",
     "text": [
      "copy_text.txt  text.txt\n"
     ]
    }
   ],
   "source": [
    "ls"
   ]
  },
  {
   "cell_type": "code",
   "execution_count": 31,
   "id": "1ecd993a-3ae6-4fc1-b18f-b83dc7b377ef",
   "metadata": {},
   "outputs": [
    {
     "name": "stdout",
     "output_type": "stream",
     "text": [
      "this is my new fileData Science Masters course is highly curated and uniquely designed according to the latest industry standards. This program instills students the skills essential to knowledge discovery efforts to identify standard, novel, and truly differentiated solutions and decision-making, including skills in managing, querying, analyzing, visualizing, and extracting meaning from extremely large data sets. This trending program provides students with the statistical, mathematical and computational skills needed to meet the large-scale data science challenges of today's professional world. You will learn all the stack required to work in data science industry including cloud infrastructure and real-time industry projects. This course will be taught in Hindi language.\n"
     ]
    }
   ],
   "source": [
    "with open(\"copy_text.txt\",\"r\") as f:\n",
    "    print(f.read())"
   ]
  },
  {
   "cell_type": "code",
   "execution_count": 32,
   "id": "364a4635-b683-4e56-a74e-056ec55f654a",
   "metadata": {},
   "outputs": [],
   "source": [
    "data={\n",
    "    \"name\":\"shazan\",\n",
    "    \"emsil\":\"suria@gmail.com\"\n",
    "}"
   ]
  },
  {
   "cell_type": "code",
   "execution_count": 33,
   "id": "dc45672e-36a5-4c59-8f1a-329d93bafc4e",
   "metadata": {},
   "outputs": [],
   "source": [
    "import json"
   ]
  },
  {
   "cell_type": "code",
   "execution_count": 34,
   "id": "2bb4469c-d9b3-4be6-a8e1-fa51b3bb4238",
   "metadata": {},
   "outputs": [],
   "source": [
    "with open(\"js.txt\",\"w\") as f:\n",
    "    json.dump(data,f)"
   ]
  },
  {
   "cell_type": "code",
   "execution_count": 35,
   "id": "c3abfa7a-35b8-4517-ac68-e2ce02358483",
   "metadata": {},
   "outputs": [],
   "source": [
    "with open(\"js.txt\",\"r\") as f:\n",
    "    detail=json.load(f)"
   ]
  },
  {
   "cell_type": "code",
   "execution_count": 36,
   "id": "ddcce0cb-7a46-4736-b663-ad616f3e5410",
   "metadata": {},
   "outputs": [
    {
     "data": {
      "text/plain": [
       "{'name': 'shazan', 'emsil': 'suria@gmail.com'}"
      ]
     },
     "execution_count": 36,
     "metadata": {},
     "output_type": "execute_result"
    }
   ],
   "source": [
    "detail"
   ]
  },
  {
   "cell_type": "code",
   "execution_count": 37,
   "id": "984d160c-61c9-4d77-b018-4e2f6d954b93",
   "metadata": {},
   "outputs": [],
   "source": [
    "import csv"
   ]
  },
  {
   "cell_type": "code",
   "execution_count": 38,
   "id": "dc4e5df9-9c28-4e57-a250-66977fb12e73",
   "metadata": {},
   "outputs": [],
   "source": [
    "d1=[['name','number'],\n",
    "    ['shazan',8564790345]\n",
    "]"
   ]
  },
  {
   "cell_type": "code",
   "execution_count": 39,
   "id": "ab31183c-b564-422f-bcf0-394254d06595",
   "metadata": {},
   "outputs": [],
   "source": [
    "with open('data.csv','w') as f:\n",
    "    writer = csv.writer(f)\n",
    "    for i in d1:\n",
    "        writer.writerow(i)"
   ]
  },
  {
   "cell_type": "code",
   "execution_count": 40,
   "id": "a5ff767e-0726-46bb-bdaf-0925243570f5",
   "metadata": {},
   "outputs": [
    {
     "name": "stdout",
     "output_type": "stream",
     "text": [
      "['name', 'number']\n",
      "['shazan', '8564790345']\n"
     ]
    }
   ],
   "source": [
    "with open('data.csv','r') as f:\n",
    "    read_data=csv.reader(f)\n",
    "    \n",
    "    for i in read_data:\n",
    "        print(i)"
   ]
  },
  {
   "cell_type": "code",
   "execution_count": 41,
   "id": "d665c48d-72f3-4783-bcb5-c9726a61f0f5",
   "metadata": {},
   "outputs": [],
   "source": [
    "with open('test.bin','wb') as f:\n",
    "    f.write(b\"this is my new fileData Science Masters course is highly curated and uniquely designed according to the latest industry standards. This program instills students the skills essential to knowledge discovery efforts to identify standard, novel, and truly differentiated solutions and decision-making, including skills in managing, querying, analyzing, visualizing, and extracting meaning from extremely large data sets. This trending program provides students with the statistical, mathematical and computational skills needed to meet the large-scale data science challenges of today's professional world. You will learn all the stack required to work in data science industry including cloud infrastructure and real-time industry projects. This course will be taught in Hindi language.\")"
   ]
  },
  {
   "cell_type": "code",
   "execution_count": 42,
   "id": "f1c68690-69e6-4e8b-bc2a-3de339c2c03e",
   "metadata": {},
   "outputs": [],
   "source": [
    "with open('test.bin','rb') as f:\n",
    "    d2=f.read()"
   ]
  },
  {
   "cell_type": "code",
   "execution_count": 43,
   "id": "723c9e62-e767-41c8-8e16-75c583602e1d",
   "metadata": {},
   "outputs": [
    {
     "data": {
      "text/plain": [
       "b\"this is my new fileData Science Masters course is highly curated and uniquely designed according to the latest industry standards. This program instills students the skills essential to knowledge discovery efforts to identify standard, novel, and truly differentiated solutions and decision-making, including skills in managing, querying, analyzing, visualizing, and extracting meaning from extremely large data sets. This trending program provides students with the statistical, mathematical and computational skills needed to meet the large-scale data science challenges of today's professional world. You will learn all the stack required to work in data science industry including cloud infrastructure and real-time industry projects. This course will be taught in Hindi language.\""
      ]
     },
     "execution_count": 43,
     "metadata": {},
     "output_type": "execute_result"
    }
   ],
   "source": [
    "d2"
   ]
  },
  {
   "cell_type": "code",
   "execution_count": 55,
   "id": "31811512-8628-4b5e-bcc2-cff57e1367b3",
   "metadata": {},
   "outputs": [],
   "source": [
    "import io"
   ]
  },
  {
   "cell_type": "code",
   "execution_count": 50,
   "id": "5bc60d61-888b-41e8-9abf-9b2bb69b9e19",
   "metadata": {},
   "outputs": [],
   "source": [
    "with open('test1.bin','wb') as f:\n",
    "    file=io.BufferedWriter(f)\n",
    "    \n",
    "    file.write(b\"this is my new fileData Science Masters course is highly curated and uniquely designed according to the latest industry standards. This program instills students the skills essential to knowledge discovery efforts to identify standard, novel, and truly differentiated solutions and decision-making, including skills in managing, querying, analyzing, visualizing, and extracting meaning from extremely large data sets. This trending program provides students with the statistical, mathematical and computational skills needed to meet the large-scale data science challenges of today's professional world. You will learn all the stack required to work in data science industry including cloud infrastructure and real-time industry projects. This course will be taught in Hindi language.\")\n",
    "    file.flush()\n",
    "f.close()"
   ]
  },
  {
   "cell_type": "code",
   "execution_count": 60,
   "id": "58d75d84-02bc-44b2-a5b2-acd8b06d8f61",
   "metadata": {},
   "outputs": [
    {
     "name": "stdout",
     "output_type": "stream",
     "text": [
      "b\"this is my new fileData Science Masters course is highly curated and uniquely designed according to the latest industry standards. This program instills students the skills essential to knowledge discovery efforts to identify standard, novel, and truly differentiated solutions and decision-making, including skills in managing, querying, analyzing, visualizing, and extracting meaning from extremely large data sets. This trending program provides students with the statistical, mathematical and computational skills needed to meet the large-scale data science challenges of today's professional world. You will learn all the stack required to work in data science industry including cloud infrastructure and real-time industry projects. This course will be taught in Hindi language.\"\n"
     ]
    }
   ],
   "source": [
    "with open('test1.bin', 'rb') as f:\n",
    "    data = io.BufferedReader(f)\n",
    "    d3=data.read()\n",
    "    print(d3)"
   ]
  },
  {
   "cell_type": "code",
   "execution_count": 64,
   "id": "8039354e-1af3-4a3c-b74e-193ab26b6ff8",
   "metadata": {},
   "outputs": [
    {
     "name": "stdout",
     "output_type": "stream",
     "text": [
      "/home/jovyan/work\n"
     ]
    }
   ],
   "source": [
    "cd ../"
   ]
  },
  {
   "cell_type": "code",
   "execution_count": 1,
   "id": "e3522c1d-dd30-448a-a852-1c705ec762ec",
   "metadata": {},
   "outputs": [
    {
     "name": "stdout",
     "output_type": "stream",
     "text": [
      "/home/jovyan/work/logging\n"
     ]
    }
   ],
   "source": [
    "cd logging"
   ]
  },
  {
   "cell_type": "code",
   "execution_count": 2,
   "id": "9d273bfa-d653-48f0-b41b-0ecd32a35c6b",
   "metadata": {},
   "outputs": [],
   "source": [
    "import logging"
   ]
  },
  {
   "cell_type": "code",
   "execution_count": 71,
   "id": "9f3f356d-83fd-4ea8-bf7f-69a067f152a7",
   "metadata": {},
   "outputs": [],
   "source": [
    "logging.basicConfig(filename='test.log', level=logging.INFO)"
   ]
  },
  {
   "cell_type": "code",
   "execution_count": 72,
   "id": "254a01f9-86c5-4ccc-be1e-6b49155a7cea",
   "metadata": {},
   "outputs": [],
   "source": [
    "logging.info(\"this is my restart logging\")"
   ]
  },
  {
   "cell_type": "code",
   "execution_count": 73,
   "id": "2cbb2ccd-a6a8-4023-9256-d6397c62aeb8",
   "metadata": {},
   "outputs": [],
   "source": [
    "logging.shutdown()"
   ]
  },
  {
   "cell_type": "code",
   "execution_count": 3,
   "id": "32f1231c-e02c-473b-a44c-81ecbbef4251",
   "metadata": {},
   "outputs": [],
   "source": [
    "logging.basicConfig(filename = 'test1.log',level=logging.DEBUG , format= '%(asctime)s %(message)s')"
   ]
  },
  {
   "cell_type": "code",
   "execution_count": 4,
   "id": "53b9ef5d-8e3b-45ed-8af8-e92a6bf053d5",
   "metadata": {},
   "outputs": [],
   "source": [
    "logging.info('this my info with time')"
   ]
  },
  {
   "cell_type": "code",
   "execution_count": 5,
   "id": "1c934e3d-2dd9-4c89-993f-0cf950c5fa41",
   "metadata": {},
   "outputs": [],
   "source": [
    "logging.shutdown()"
   ]
  },
  {
   "cell_type": "code",
   "execution_count": null,
   "id": "5642559c-5d37-4692-8392-3a5a637b0bbe",
   "metadata": {},
   "outputs": [
    {
     "name": "stdout",
     "output_type": "stream",
     "text": [
      "/home/jovyan/work/logging\n"
     ]
    }
   ],
   "source": [
    "cd logging"
   ]
  },
  {
   "cell_type": "code",
   "execution_count": null,
   "id": "831ab1ac-a2af-412d-a71f-f9338482b6ec",
   "metadata": {},
   "outputs": [],
   "source": []
  },
  {
   "cell_type": "code",
   "execution_count": null,
   "id": "69d10c81-387c-4d07-b615-1185145bb0cf",
   "metadata": {},
   "outputs": [],
   "source": []
  },
  {
   "cell_type": "code",
   "execution_count": null,
   "id": "15677991-f4dd-4694-a123-a62f4cb3511c",
   "metadata": {},
   "outputs": [],
   "source": [
    "# NOTSET\n",
    "# DEBUG\n",
    "# INFO\n",
    "# WARNING\n",
    "# ERROR\n",
    "# CRITICAL"
   ]
  }
 ],
 "metadata": {
  "kernelspec": {
   "display_name": "Python 3 (ipykernel)",
   "language": "python",
   "name": "python3"
  },
  "language_info": {
   "codemirror_mode": {
    "name": "ipython",
    "version": 3
   },
   "file_extension": ".py",
   "mimetype": "text/x-python",
   "name": "python",
   "nbconvert_exporter": "python",
   "pygments_lexer": "ipython3",
   "version": "3.10.8"
  }
 },
 "nbformat": 4,
 "nbformat_minor": 5
}
