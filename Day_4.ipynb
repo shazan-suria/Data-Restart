{
 "cells": [
  {
   "cell_type": "code",
   "execution_count": 1,
   "id": "84cfb855-20bd-4b75-849f-1035b2f4398b",
   "metadata": {},
   "outputs": [],
   "source": [
    "# Data  day 4\n",
    "# for loop practice\n",
    "# for else loop\n",
    "# range() function"
   ]
  },
  {
   "cell_type": "code",
   "execution_count": 2,
   "id": "ef93f1d4-6ae8-43e0-ba9c-bb0a509ebeca",
   "metadata": {},
   "outputs": [],
   "source": [
    "l=[1,2,3,4]"
   ]
  },
  {
   "cell_type": "code",
   "execution_count": 3,
   "id": "275d38a9-ad6d-48ee-87cf-a84aa239f616",
   "metadata": {},
   "outputs": [
    {
     "name": "stdout",
     "output_type": "stream",
     "text": [
      "1\n",
      "2\n",
      "3\n",
      "4\n"
     ]
    }
   ],
   "source": [
    "for i in l:\n",
    "    print(i)"
   ]
  },
  {
   "cell_type": "code",
   "execution_count": 4,
   "id": "d8749d70-4c2a-4615-9d2a-bd1d5c9abe5c",
   "metadata": {},
   "outputs": [
    {
     "name": "stdout",
     "output_type": "stream",
     "text": [
      "1 <class 'int'>\n",
      "2 <class 'int'>\n",
      "3 <class 'int'>\n",
      "4 <class 'int'>\n",
      "if for loop will execute completely then only else will execute\n"
     ]
    }
   ],
   "source": [
    "for i in l:\n",
    "    print(i , type(i))\n",
    "else:\n",
    "    print(\"if for loop will execute completely then only else will execute\")"
   ]
  },
  {
   "cell_type": "code",
   "execution_count": 5,
   "id": "edcfac69-46e0-4efc-997d-38e0081f9f68",
   "metadata": {},
   "outputs": [
    {
     "name": "stdout",
     "output_type": "stream",
     "text": [
      "1\n",
      "2\n"
     ]
    }
   ],
   "source": [
    "for i in l:\n",
    "    if(i==3):\n",
    "        break\n",
    "    print(i)"
   ]
  },
  {
   "cell_type": "code",
   "execution_count": 6,
   "id": "dcdf7abb-6d1b-4f31-92f8-66862dec6090",
   "metadata": {},
   "outputs": [
    {
     "name": "stdout",
     "output_type": "stream",
     "text": [
      "1\n",
      "2\n"
     ]
    }
   ],
   "source": [
    "for i in l:\n",
    "    if(i==3):\n",
    "        break\n",
    "    print(i)\n",
    "else:\n",
    "    print(\"This block will execute only when the for loop execute completely\")"
   ]
  },
  {
   "cell_type": "code",
   "execution_count": 7,
   "id": "c6b7640e-7278-4f58-a11b-a4c836e5858c",
   "metadata": {},
   "outputs": [
    {
     "name": "stdout",
     "output_type": "stream",
     "text": [
      "1\n",
      "2\n",
      "4\n"
     ]
    }
   ],
   "source": [
    "for i in l:\n",
    "    if(i==3):\n",
    "        continue\n",
    "    print(i)"
   ]
  },
  {
   "cell_type": "code",
   "execution_count": 8,
   "id": "3c9d43bb-ea2e-4951-a90a-4ff2e6e5c500",
   "metadata": {},
   "outputs": [
    {
     "name": "stdout",
     "output_type": "stream",
     "text": [
      "1\n",
      "2\n",
      "4\n",
      "This block will execute only when the for loop execute completely\n"
     ]
    }
   ],
   "source": [
    "for i in l:\n",
    "    if(i==3):\n",
    "        continue\n",
    "    print(i)\n",
    "else:\n",
    "    print(\"This block will execute only when the for loop execute completely\")"
   ]
  },
  {
   "cell_type": "code",
   "execution_count": 9,
   "id": "d9891d89-7c99-4302-ad5c-c666395f043e",
   "metadata": {},
   "outputs": [
    {
     "name": "stdout",
     "output_type": "stream",
     "text": [
      "1\n",
      "2\n",
      "3\n"
     ]
    }
   ],
   "source": [
    "for i in l:\n",
    "    if(i==4):#if continue is in least os for loop will not complete and else block will not execute\n",
    "        break\n",
    "    print(i)\n",
    "else:\n",
    "    print(\"This block will execute only when the for loop execute completely\")"
   ]
  },
  {
   "cell_type": "code",
   "execution_count": 10,
   "id": "ee1bb4cf-60bf-422e-a2a1-c90be5279498",
   "metadata": {},
   "outputs": [
    {
     "data": {
      "text/plain": [
       "range(0, 5)"
      ]
     },
     "execution_count": 10,
     "metadata": {},
     "output_type": "execute_result"
    }
   ],
   "source": [
    "range(5)"
   ]
  },
  {
   "cell_type": "code",
   "execution_count": 11,
   "id": "36051861-d557-46cf-ba46-5e0a79797703",
   "metadata": {},
   "outputs": [
    {
     "data": {
      "text/plain": [
       "[0, 1, 2, 3, 4]"
      ]
     },
     "execution_count": 11,
     "metadata": {},
     "output_type": "execute_result"
    }
   ],
   "source": [
    "list(range(5))"
   ]
  },
  {
   "cell_type": "code",
   "execution_count": 12,
   "id": "e0a4abd0-b986-44a7-ad93-477bf80a43bf",
   "metadata": {},
   "outputs": [
    {
     "name": "stdout",
     "output_type": "stream",
     "text": [
      "4\n",
      "3\n",
      "2\n",
      "1\n"
     ]
    }
   ],
   "source": [
    "for i in range(len(l)-1,-1,-1):\n",
    "    print(l[i])"
   ]
  }
 ],
 "metadata": {
  "kernelspec": {
   "display_name": "Python 3 (ipykernel)",
   "language": "python",
   "name": "python3"
  },
  "language_info": {
   "codemirror_mode": {
    "name": "ipython",
    "version": 3
   },
   "file_extension": ".py",
   "mimetype": "text/x-python",
   "name": "python",
   "nbconvert_exporter": "python",
   "pygments_lexer": "ipython3",
   "version": "3.10.8"
  }
 },
 "nbformat": 4,
 "nbformat_minor": 5
}
