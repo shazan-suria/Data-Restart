{
 "cells": [
  {
   "cell_type": "code",
   "execution_count": 1,
   "id": "28be3ea8-d2a4-4ed5-aabf-980462ad45a3",
   "metadata": {},
   "outputs": [],
   "source": [
    "# Data day 2\n",
    "# Data type: List,tuples,set\n",
    "# list,tuple indexing\n",
    "# list,tuple,set functions\n",
    "# list() function str() function tuple() function set function "
   ]
  },
  {
   "cell_type": "code",
   "execution_count": 2,
   "id": "becc6c8b-2252-489a-aaa3-ae7d864021d4",
   "metadata": {},
   "outputs": [],
   "source": [
    "l=[1,2,3,'abc',3+7j,True,45.678,23.6,34]"
   ]
  },
  {
   "cell_type": "code",
   "execution_count": 3,
   "id": "ab762970-b765-4310-8e1f-b4cc9ca63cd5",
   "metadata": {},
   "outputs": [
    {
     "data": {
      "text/plain": [
       "list"
      ]
     },
     "execution_count": 3,
     "metadata": {},
     "output_type": "execute_result"
    }
   ],
   "source": [
    "type(l)"
   ]
  },
  {
   "cell_type": "code",
   "execution_count": 4,
   "id": "eaf066c2-7c1e-4031-bbdb-17e6b3214306",
   "metadata": {},
   "outputs": [
    {
     "data": {
      "text/plain": [
       "1"
      ]
     },
     "execution_count": 4,
     "metadata": {},
     "output_type": "execute_result"
    }
   ],
   "source": [
    "l[0]"
   ]
  },
  {
   "cell_type": "code",
   "execution_count": 5,
   "id": "816603b1-ebb1-493a-941e-bef7580ac842",
   "metadata": {},
   "outputs": [
    {
     "data": {
      "text/plain": [
       "(3+7j)"
      ]
     },
     "execution_count": 5,
     "metadata": {},
     "output_type": "execute_result"
    }
   ],
   "source": [
    "l[4]"
   ]
  },
  {
   "cell_type": "code",
   "execution_count": 6,
   "id": "c79aba3b-42f3-4c75-9f01-b095b2987078",
   "metadata": {},
   "outputs": [
    {
     "data": {
      "text/plain": [
       "[34, 23.6, 45.678, True, (3+7j), 'abc', 3, 2, 1]"
      ]
     },
     "execution_count": 6,
     "metadata": {},
     "output_type": "execute_result"
    }
   ],
   "source": [
    "l[::-1]"
   ]
  },
  {
   "cell_type": "code",
   "execution_count": 7,
   "id": "96bd79cc-0f71-4fde-9c48-413ee2b5780f",
   "metadata": {},
   "outputs": [
    {
     "data": {
      "text/plain": [
       "[1, 3, (3+7j), 45.678, 34]"
      ]
     },
     "execution_count": 7,
     "metadata": {},
     "output_type": "execute_result"
    }
   ],
   "source": [
    "l[::2]"
   ]
  },
  {
   "cell_type": "code",
   "execution_count": 8,
   "id": "5e93e98f-b1aa-432f-9f08-7af3959626f2",
   "metadata": {},
   "outputs": [
    {
     "data": {
      "text/plain": [
       "34"
      ]
     },
     "execution_count": 8,
     "metadata": {},
     "output_type": "execute_result"
    }
   ],
   "source": [
    "l[-1]"
   ]
  },
  {
   "cell_type": "code",
   "execution_count": 9,
   "id": "cf4b5c18-3a83-41b8-ad64-b95df78bbcc7",
   "metadata": {},
   "outputs": [
    {
     "data": {
      "text/plain": [
       "True"
      ]
     },
     "execution_count": 9,
     "metadata": {},
     "output_type": "execute_result"
    }
   ],
   "source": [
    "l[5]"
   ]
  },
  {
   "cell_type": "code",
   "execution_count": 10,
   "id": "ae956b21-5faf-41db-bdd8-298639529f85",
   "metadata": {},
   "outputs": [
    {
     "data": {
      "text/plain": [
       "45.678"
      ]
     },
     "execution_count": 10,
     "metadata": {},
     "output_type": "execute_result"
    }
   ],
   "source": [
    "l[6]"
   ]
  },
  {
   "cell_type": "code",
   "execution_count": 11,
   "id": "40951ee6-d20d-49cc-a4e0-75ed8ae4d4a8",
   "metadata": {},
   "outputs": [
    {
     "data": {
      "text/plain": [
       "[1, 2, 3, 'abc', (3+7j), True, 45.678, 23.6, 34]"
      ]
     },
     "execution_count": 11,
     "metadata": {},
     "output_type": "execute_result"
    }
   ],
   "source": [
    "l"
   ]
  },
  {
   "cell_type": "code",
   "execution_count": 12,
   "id": "a488a358-c147-4b91-a1ab-09909b9855cc",
   "metadata": {},
   "outputs": [
    {
     "data": {
      "text/plain": [
       "'abc'"
      ]
     },
     "execution_count": 12,
     "metadata": {},
     "output_type": "execute_result"
    }
   ],
   "source": [
    "l[3]"
   ]
  },
  {
   "cell_type": "code",
   "execution_count": 13,
   "id": "394d7489-6a6e-433e-a5dc-4ee8cc0f488d",
   "metadata": {},
   "outputs": [
    {
     "data": {
      "text/plain": [
       "'c'"
      ]
     },
     "execution_count": 13,
     "metadata": {},
     "output_type": "execute_result"
    }
   ],
   "source": [
    "l[3][2]"
   ]
  },
  {
   "cell_type": "code",
   "execution_count": 14,
   "id": "f777a1c8-a780-442c-8aa1-7e9ecc98fc38",
   "metadata": {},
   "outputs": [],
   "source": [
    "s='pwskills'"
   ]
  },
  {
   "cell_type": "code",
   "execution_count": 15,
   "id": "50306203-c7bb-4366-9202-499b1ccd8716",
   "metadata": {},
   "outputs": [
    {
     "data": {
      "text/plain": [
       "['p', 'w', 's', 'k', 'i', 'l', 'l', 's']"
      ]
     },
     "execution_count": 15,
     "metadata": {},
     "output_type": "execute_result"
    }
   ],
   "source": [
    "list(s)"
   ]
  },
  {
   "cell_type": "code",
   "execution_count": 16,
   "id": "c9adb566-2070-446f-8462-497bbce7d368",
   "metadata": {},
   "outputs": [
    {
     "data": {
      "text/plain": [
       "\"['p', 'w', 's', 'k', 'i', 'l', 'l', 's']\""
      ]
     },
     "execution_count": 16,
     "metadata": {},
     "output_type": "execute_result"
    }
   ],
   "source": [
    "str(list(s))"
   ]
  },
  {
   "cell_type": "code",
   "execution_count": 17,
   "id": "ec0ec17c-803a-46f3-85ae-699989531623",
   "metadata": {},
   "outputs": [
    {
     "data": {
      "text/plain": [
       "9"
      ]
     },
     "execution_count": 17,
     "metadata": {},
     "output_type": "execute_result"
    }
   ],
   "source": [
    "len(l)"
   ]
  },
  {
   "cell_type": "code",
   "execution_count": 18,
   "id": "e82f7215-1ab2-4c8e-b4ac-f9bb5af05ab8",
   "metadata": {},
   "outputs": [
    {
     "data": {
      "text/plain": [
       "[1, 2, 3, 'abc', (3+7j), True, 45.678, 23.6, 34]"
      ]
     },
     "execution_count": 18,
     "metadata": {},
     "output_type": "execute_result"
    }
   ],
   "source": [
    "l"
   ]
  },
  {
   "cell_type": "code",
   "execution_count": 19,
   "id": "babcaee2-d84e-4de0-92dc-016d50b556c7",
   "metadata": {},
   "outputs": [],
   "source": [
    "l.append(5)"
   ]
  },
  {
   "cell_type": "code",
   "execution_count": 20,
   "id": "65594dd3-2dfa-4fdd-8ce6-64746d25548a",
   "metadata": {},
   "outputs": [
    {
     "data": {
      "text/plain": [
       "[1, 2, 3, 'abc', (3+7j), True, 45.678, 23.6, 34, 5]"
      ]
     },
     "execution_count": 20,
     "metadata": {},
     "output_type": "execute_result"
    }
   ],
   "source": [
    "l"
   ]
  },
  {
   "cell_type": "code",
   "execution_count": 21,
   "id": "8de55575-d331-4849-9418-017039de2864",
   "metadata": {},
   "outputs": [
    {
     "data": {
      "text/plain": [
       "5"
      ]
     },
     "execution_count": 21,
     "metadata": {},
     "output_type": "execute_result"
    }
   ],
   "source": [
    "l.pop()"
   ]
  },
  {
   "cell_type": "code",
   "execution_count": 22,
   "id": "cc1dadbc-84be-43ea-8346-23b2c5983c3e",
   "metadata": {},
   "outputs": [],
   "source": [
    "l1=[2,3,4]"
   ]
  },
  {
   "cell_type": "code",
   "execution_count": 23,
   "id": "492de2e5-90fb-4754-9ff0-869cd1e9b842",
   "metadata": {},
   "outputs": [
    {
     "data": {
      "text/plain": [
       "[1, 2, 3, 'abc', (3+7j), True, 45.678, 23.6, 34, 2, 3, 4]"
      ]
     },
     "execution_count": 23,
     "metadata": {},
     "output_type": "execute_result"
    }
   ],
   "source": [
    "l+l1"
   ]
  },
  {
   "cell_type": "code",
   "execution_count": 24,
   "id": "498d2fa8-7a27-4519-9cbd-8963ab84c638",
   "metadata": {},
   "outputs": [
    {
     "data": {
      "text/plain": [
       "[1, 2, 3, 'abc', (3+7j), True, 45.678, 23.6, 34]"
      ]
     },
     "execution_count": 24,
     "metadata": {},
     "output_type": "execute_result"
    }
   ],
   "source": [
    "l"
   ]
  },
  {
   "cell_type": "code",
   "execution_count": 25,
   "id": "8f9cf8ff-f0d8-40fc-a6a7-d84ac4a1a8f0",
   "metadata": {},
   "outputs": [],
   "source": [
    "l.append(l1)"
   ]
  },
  {
   "cell_type": "code",
   "execution_count": 26,
   "id": "4c09d296-59cd-4314-9563-663c14553926",
   "metadata": {},
   "outputs": [
    {
     "data": {
      "text/plain": [
       "[1, 2, 3, 'abc', (3+7j), True, 45.678, 23.6, 34, [2, 3, 4]]"
      ]
     },
     "execution_count": 26,
     "metadata": {},
     "output_type": "execute_result"
    }
   ],
   "source": [
    "l"
   ]
  },
  {
   "cell_type": "code",
   "execution_count": 27,
   "id": "22a5257a-0989-42c3-9515-9b34aa529395",
   "metadata": {},
   "outputs": [
    {
     "data": {
      "text/plain": [
       "4"
      ]
     },
     "execution_count": 27,
     "metadata": {},
     "output_type": "execute_result"
    }
   ],
   "source": [
    "l[-1][2]"
   ]
  },
  {
   "cell_type": "code",
   "execution_count": 28,
   "id": "4252650b-8b94-4752-aef9-e688ff0946c4",
   "metadata": {},
   "outputs": [],
   "source": [
    "l.extend(l1)"
   ]
  },
  {
   "cell_type": "code",
   "execution_count": 29,
   "id": "6aaf86a3-faa8-48dc-bf30-66024a8c5c98",
   "metadata": {},
   "outputs": [
    {
     "data": {
      "text/plain": [
       "[1, 2, 3, 'abc', (3+7j), True, 45.678, 23.6, 34, [2, 3, 4], 2, 3, 4]"
      ]
     },
     "execution_count": 29,
     "metadata": {},
     "output_type": "execute_result"
    }
   ],
   "source": [
    "l"
   ]
  },
  {
   "cell_type": "code",
   "execution_count": 30,
   "id": "10a2173b-ee3e-407e-a659-53e72661781a",
   "metadata": {},
   "outputs": [
    {
     "data": {
      "text/plain": [
       "[2, 3, 4]"
      ]
     },
     "execution_count": 30,
     "metadata": {},
     "output_type": "execute_result"
    }
   ],
   "source": [
    "l1"
   ]
  },
  {
   "cell_type": "code",
   "execution_count": 31,
   "id": "093f2323-a811-4650-94c9-71ca405577c1",
   "metadata": {},
   "outputs": [],
   "source": [
    "l1.insert(0,23)"
   ]
  },
  {
   "cell_type": "code",
   "execution_count": 32,
   "id": "3a9340dc-ce8e-4333-9ab7-0fe9468f7cf5",
   "metadata": {},
   "outputs": [
    {
     "data": {
      "text/plain": [
       "[23, 2, 3, 4]"
      ]
     },
     "execution_count": 32,
     "metadata": {},
     "output_type": "execute_result"
    }
   ],
   "source": [
    "l1"
   ]
  },
  {
   "cell_type": "code",
   "execution_count": 33,
   "id": "d5898aae-8aba-4378-9e95-f177be8a7625",
   "metadata": {},
   "outputs": [],
   "source": [
    "l1.insert(3,34)"
   ]
  },
  {
   "cell_type": "code",
   "execution_count": 34,
   "id": "5e55322f-f28a-49d1-a7fc-f1f8cb40a25f",
   "metadata": {},
   "outputs": [
    {
     "data": {
      "text/plain": [
       "[23, 2, 3, 34, 4]"
      ]
     },
     "execution_count": 34,
     "metadata": {},
     "output_type": "execute_result"
    }
   ],
   "source": [
    "l1"
   ]
  },
  {
   "cell_type": "code",
   "execution_count": 35,
   "id": "1fb37069-a913-495d-b9aa-c27303b2bbd6",
   "metadata": {},
   "outputs": [],
   "source": [
    "l1.reverse()"
   ]
  },
  {
   "cell_type": "code",
   "execution_count": 36,
   "id": "c9f80d37-8e9c-45cb-9afb-720644abadfa",
   "metadata": {},
   "outputs": [
    {
     "data": {
      "text/plain": [
       "[4, 34, 3, 2, 23]"
      ]
     },
     "execution_count": 36,
     "metadata": {},
     "output_type": "execute_result"
    }
   ],
   "source": [
    "l1"
   ]
  },
  {
   "cell_type": "code",
   "execution_count": 37,
   "id": "94ae72a2-5cb2-4b94-873b-ff684d78800f",
   "metadata": {},
   "outputs": [],
   "source": [
    "l1.reverse()"
   ]
  },
  {
   "cell_type": "code",
   "execution_count": 38,
   "id": "7569b0dd-d7b0-4dac-81c6-8afa810bc895",
   "metadata": {},
   "outputs": [
    {
     "data": {
      "text/plain": [
       "[23, 2, 3, 34, 4]"
      ]
     },
     "execution_count": 38,
     "metadata": {},
     "output_type": "execute_result"
    }
   ],
   "source": [
    "l1"
   ]
  },
  {
   "cell_type": "code",
   "execution_count": 39,
   "id": "dfa32f8e-3c94-460f-8316-3f41c2307e88",
   "metadata": {},
   "outputs": [
    {
     "data": {
      "text/plain": [
       "23"
      ]
     },
     "execution_count": 39,
     "metadata": {},
     "output_type": "execute_result"
    }
   ],
   "source": [
    "l1.pop(0)"
   ]
  },
  {
   "cell_type": "code",
   "execution_count": 40,
   "id": "1189f6db-721d-4775-842f-766b96e06646",
   "metadata": {},
   "outputs": [
    {
     "data": {
      "text/plain": [
       "4"
      ]
     },
     "execution_count": 40,
     "metadata": {},
     "output_type": "execute_result"
    }
   ],
   "source": [
    "l1.pop()"
   ]
  },
  {
   "cell_type": "code",
   "execution_count": 41,
   "id": "232001bb-ca1a-400c-87c6-c26ee4602324",
   "metadata": {},
   "outputs": [
    {
     "data": {
      "text/plain": [
       "[2, 3, 34]"
      ]
     },
     "execution_count": 41,
     "metadata": {},
     "output_type": "execute_result"
    }
   ],
   "source": [
    "l1"
   ]
  },
  {
   "cell_type": "code",
   "execution_count": 42,
   "id": "32d970df-6602-4a94-8404-5b7cd287867f",
   "metadata": {},
   "outputs": [],
   "source": [
    "l1.remove(34)"
   ]
  },
  {
   "cell_type": "code",
   "execution_count": 43,
   "id": "1d06d37b-000f-4c25-a348-fa6ab724652a",
   "metadata": {},
   "outputs": [
    {
     "data": {
      "text/plain": [
       "[2, 3]"
      ]
     },
     "execution_count": 43,
     "metadata": {},
     "output_type": "execute_result"
    }
   ],
   "source": [
    "l1"
   ]
  },
  {
   "cell_type": "code",
   "execution_count": 44,
   "id": "204bb88e-80ba-4b78-a668-3fcf0442bf60",
   "metadata": {},
   "outputs": [
    {
     "data": {
      "text/plain": [
       "[1, 2, 3, 'abc', (3+7j), True, 45.678, 23.6, 34, [2, 3], 2, 3, 4]"
      ]
     },
     "execution_count": 44,
     "metadata": {},
     "output_type": "execute_result"
    }
   ],
   "source": [
    "l"
   ]
  },
  {
   "cell_type": "code",
   "execution_count": 45,
   "id": "d76c2dc2-5903-4ed4-80d3-9d25656fdaf3",
   "metadata": {},
   "outputs": [],
   "source": [
    "l[-4].remove(3)"
   ]
  },
  {
   "cell_type": "code",
   "execution_count": 46,
   "id": "fa258d7c-ada0-4f13-bcc8-585bea7e1eb4",
   "metadata": {},
   "outputs": [
    {
     "data": {
      "text/plain": [
       "[1, 2, 3, 'abc', (3+7j), True, 45.678, 23.6, 34, [2], 2, 3, 4]"
      ]
     },
     "execution_count": 46,
     "metadata": {},
     "output_type": "execute_result"
    }
   ],
   "source": [
    "l"
   ]
  },
  {
   "cell_type": "code",
   "execution_count": 47,
   "id": "1d2391d0-848c-4f33-b59f-10861933ede5",
   "metadata": {},
   "outputs": [
    {
     "data": {
      "text/plain": [
       "[2]"
      ]
     },
     "execution_count": 47,
     "metadata": {},
     "output_type": "execute_result"
    }
   ],
   "source": [
    "l[-4]"
   ]
  },
  {
   "cell_type": "code",
   "execution_count": 48,
   "id": "c53c2c36-4ac0-4f29-b48d-caf9fa8c02bf",
   "metadata": {},
   "outputs": [
    {
     "data": {
      "text/plain": [
       "[1, 2, 3, 'abc', (3+7j), True, 45.678, 23.6, 34, [2], 2, 3, 4]"
      ]
     },
     "execution_count": 48,
     "metadata": {},
     "output_type": "execute_result"
    }
   ],
   "source": [
    "l"
   ]
  },
  {
   "cell_type": "code",
   "execution_count": 49,
   "id": "ab549dd4-0860-4056-a6b0-e5cb280bd70d",
   "metadata": {},
   "outputs": [],
   "source": [
    "l[4]=34"
   ]
  },
  {
   "cell_type": "code",
   "execution_count": 50,
   "id": "1352ce24-29d8-432b-82d3-8377307cb41b",
   "metadata": {},
   "outputs": [
    {
     "data": {
      "text/plain": [
       "[1, 2, 3, 'abc', 34, True, 45.678, 23.6, 34, [2], 2, 3, 4]"
      ]
     },
     "execution_count": 50,
     "metadata": {},
     "output_type": "execute_result"
    }
   ],
   "source": [
    "l"
   ]
  },
  {
   "cell_type": "code",
   "execution_count": 51,
   "id": "7de6acec-f61b-4998-abc5-fb1fd8b30c43",
   "metadata": {},
   "outputs": [],
   "source": [
    "a=2,3"
   ]
  },
  {
   "cell_type": "code",
   "execution_count": 52,
   "id": "af3c7c60-8167-4aff-b240-9daab49de543",
   "metadata": {},
   "outputs": [
    {
     "data": {
      "text/plain": [
       "tuple"
      ]
     },
     "execution_count": 52,
     "metadata": {},
     "output_type": "execute_result"
    }
   ],
   "source": [
    "type(a)"
   ]
  },
  {
   "cell_type": "code",
   "execution_count": 53,
   "id": "5afcbbfe-aa3d-4a3e-89fb-1b9db25ef165",
   "metadata": {},
   "outputs": [],
   "source": [
    "tu=(1,2,3,4,[45,76,43],65)"
   ]
  },
  {
   "cell_type": "code",
   "execution_count": 54,
   "id": "d8972540-e733-48cb-8188-e72f1924cdc3",
   "metadata": {},
   "outputs": [
    {
     "data": {
      "text/plain": [
       "(1, 2, 3, 4, [45, 76, 43], 65)"
      ]
     },
     "execution_count": 54,
     "metadata": {},
     "output_type": "execute_result"
    }
   ],
   "source": [
    "tu"
   ]
  },
  {
   "cell_type": "code",
   "execution_count": 55,
   "id": "1d5ae0fe-b862-4bfa-8417-d406169c0e51",
   "metadata": {},
   "outputs": [
    {
     "data": {
      "text/plain": [
       "6"
      ]
     },
     "execution_count": 55,
     "metadata": {},
     "output_type": "execute_result"
    }
   ],
   "source": [
    "len(tu)"
   ]
  },
  {
   "cell_type": "code",
   "execution_count": 56,
   "id": "550d82b0-0194-4319-b258-a24c2b69da17",
   "metadata": {},
   "outputs": [
    {
     "data": {
      "text/plain": [
       "1"
      ]
     },
     "execution_count": 56,
     "metadata": {},
     "output_type": "execute_result"
    }
   ],
   "source": [
    "tu.count(65)"
   ]
  },
  {
   "cell_type": "code",
   "execution_count": 57,
   "id": "974948a9-1933-4d42-907e-79c168c9240f",
   "metadata": {},
   "outputs": [
    {
     "data": {
      "text/plain": [
       "2"
      ]
     },
     "execution_count": 57,
     "metadata": {},
     "output_type": "execute_result"
    }
   ],
   "source": [
    "tu.index(3)"
   ]
  },
  {
   "cell_type": "code",
   "execution_count": 58,
   "id": "a052be23-71de-47ad-9e7d-b0cded6db4c1",
   "metadata": {},
   "outputs": [],
   "source": [
    "# Difference from tuples and list is tuples are immutable but list are mutable"
   ]
  },
  {
   "cell_type": "code",
   "execution_count": 59,
   "id": "b8a42bbf-a838-4b85-9376-ba2f8c1129f5",
   "metadata": {},
   "outputs": [
    {
     "data": {
      "text/plain": [
       "(65, [45, 76, 43], 4, 3, 2, 1)"
      ]
     },
     "execution_count": 59,
     "metadata": {},
     "output_type": "execute_result"
    }
   ],
   "source": [
    "tu[::-1]"
   ]
  },
  {
   "cell_type": "code",
   "execution_count": 60,
   "id": "f959d023-a423-486a-98d6-821c61edbc80",
   "metadata": {},
   "outputs": [
    {
     "ename": "TypeError",
     "evalue": "'tuple' object does not support item assignment",
     "output_type": "error",
     "traceback": [
      "\u001b[0;31m---------------------------------------------------------------------------\u001b[0m",
      "\u001b[0;31mTypeError\u001b[0m                                 Traceback (most recent call last)",
      "Cell \u001b[0;32mIn[60], line 1\u001b[0m\n\u001b[0;32m----> 1\u001b[0m \u001b[43mtu\u001b[49m\u001b[43m[\u001b[49m\u001b[38;5;241;43m2\u001b[39;49m\u001b[43m]\u001b[49m\u001b[38;5;241m=\u001b[39m\u001b[38;5;241m45\u001b[39m\n",
      "\u001b[0;31mTypeError\u001b[0m: 'tuple' object does not support item assignment"
     ]
    }
   ],
   "source": [
    "tu[2]=45"
   ]
  },
  {
   "cell_type": "code",
   "execution_count": 61,
   "id": "3b26261b-4d0d-415a-9f3d-d80da5dde44a",
   "metadata": {},
   "outputs": [],
   "source": [
    "s1={1,22,3,4,5,6,7,6,5,4}"
   ]
  },
  {
   "cell_type": "code",
   "execution_count": 62,
   "id": "9f661f4b-6869-4072-8eac-bd05211ee692",
   "metadata": {},
   "outputs": [
    {
     "data": {
      "text/plain": [
       "{1, 3, 4, 5, 6, 7, 22}"
      ]
     },
     "execution_count": 62,
     "metadata": {},
     "output_type": "execute_result"
    }
   ],
   "source": [
    "s1"
   ]
  },
  {
   "cell_type": "code",
   "execution_count": 63,
   "id": "2cea9789-4fcc-4a05-89e2-fcb3a542e4d8",
   "metadata": {},
   "outputs": [
    {
     "data": {
      "text/plain": [
       "set"
      ]
     },
     "execution_count": 63,
     "metadata": {},
     "output_type": "execute_result"
    }
   ],
   "source": [
    "type(s1)"
   ]
  },
  {
   "cell_type": "code",
   "execution_count": 64,
   "id": "909c9db9-93e0-4140-8986-b0243d7eee9e",
   "metadata": {},
   "outputs": [],
   "source": [
    "s2={}"
   ]
  },
  {
   "cell_type": "code",
   "execution_count": 65,
   "id": "c0329693-fe62-45b0-aef3-72e4372719c8",
   "metadata": {},
   "outputs": [
    {
     "data": {
      "text/plain": [
       "dict"
      ]
     },
     "execution_count": 65,
     "metadata": {},
     "output_type": "execute_result"
    }
   ],
   "source": [
    "type(s2)"
   ]
  },
  {
   "cell_type": "code",
   "execution_count": 66,
   "id": "a97a4a26-50e2-4531-9843-5e3d37e55371",
   "metadata": {},
   "outputs": [],
   "source": [
    "s1.discard(1)"
   ]
  },
  {
   "cell_type": "code",
   "execution_count": 67,
   "id": "7f8ca71d-ad5b-430c-8572-a341190f0695",
   "metadata": {},
   "outputs": [
    {
     "data": {
      "text/plain": [
       "{3, 4, 5, 6, 7, 22}"
      ]
     },
     "execution_count": 67,
     "metadata": {},
     "output_type": "execute_result"
    }
   ],
   "source": [
    "s1"
   ]
  },
  {
   "cell_type": "code",
   "execution_count": 68,
   "id": "5bd351f9-0ffa-470c-b03c-3ef60fbd6657",
   "metadata": {},
   "outputs": [
    {
     "data": {
      "text/plain": [
       "()"
      ]
     },
     "execution_count": 68,
     "metadata": {},
     "output_type": "execute_result"
    }
   ],
   "source": [
    "tuple(s2)"
   ]
  },
  {
   "cell_type": "code",
   "execution_count": 69,
   "id": "b75c15ef-5ec2-4d9f-96a4-4757990a581b",
   "metadata": {},
   "outputs": [
    {
     "data": {
      "text/plain": [
       "set()"
      ]
     },
     "execution_count": 69,
     "metadata": {},
     "output_type": "execute_result"
    }
   ],
   "source": [
    "set(s2)"
   ]
  },
  {
   "cell_type": "code",
   "execution_count": 70,
   "id": "900cc9f1-09df-4332-8e7c-ac75fcaba205",
   "metadata": {},
   "outputs": [
    {
     "data": {
      "text/plain": [
       "dict"
      ]
     },
     "execution_count": 70,
     "metadata": {},
     "output_type": "execute_result"
    }
   ],
   "source": [
    "type(s2)"
   ]
  },
  {
   "cell_type": "code",
   "execution_count": 71,
   "id": "ff484a6e-b2d0-423d-b72b-d89ea9169ffc",
   "metadata": {},
   "outputs": [],
   "source": [
    "s2={}"
   ]
  },
  {
   "cell_type": "code",
   "execution_count": 72,
   "id": "bf6504a0-426f-4e0d-a6c0-f78391d26b87",
   "metadata": {},
   "outputs": [
    {
     "data": {
      "text/plain": [
       "dict"
      ]
     },
     "execution_count": 72,
     "metadata": {},
     "output_type": "execute_result"
    }
   ],
   "source": [
    "type(s2)"
   ]
  },
  {
   "cell_type": "code",
   "execution_count": 73,
   "id": "842163e6-6b1a-4314-8109-f37cd4fdc57d",
   "metadata": {},
   "outputs": [
    {
     "data": {
      "text/plain": [
       "set()"
      ]
     },
     "execution_count": 73,
     "metadata": {},
     "output_type": "execute_result"
    }
   ],
   "source": [
    "set(s2)"
   ]
  },
  {
   "cell_type": "code",
   "execution_count": 74,
   "id": "471258b1-4a51-462e-b17d-b131241bb9d1",
   "metadata": {},
   "outputs": [
    {
     "data": {
      "text/plain": [
       "dict"
      ]
     },
     "execution_count": 74,
     "metadata": {},
     "output_type": "execute_result"
    }
   ],
   "source": [
    "type(s2)"
   ]
  },
  {
   "cell_type": "code",
   "execution_count": 75,
   "id": "cc86b089-a4ba-475e-9e14-6fc4ace3a528",
   "metadata": {},
   "outputs": [
    {
     "data": {
      "text/plain": [
       "[2]"
      ]
     },
     "execution_count": 75,
     "metadata": {},
     "output_type": "execute_result"
    }
   ],
   "source": [
    "l1"
   ]
  },
  {
   "cell_type": "code",
   "execution_count": 76,
   "id": "bed7ccd0-946c-43ab-ba48-bb3e9e71eea6",
   "metadata": {},
   "outputs": [
    {
     "data": {
      "text/plain": [
       "{2}"
      ]
     },
     "execution_count": 76,
     "metadata": {},
     "output_type": "execute_result"
    }
   ],
   "source": [
    "set(l1)"
   ]
  }
 ],
 "metadata": {
  "kernelspec": {
   "display_name": "Python 3 (ipykernel)",
   "language": "python",
   "name": "python3"
  },
  "language_info": {
   "codemirror_mode": {
    "name": "ipython",
    "version": 3
   },
   "file_extension": ".py",
   "mimetype": "text/x-python",
   "name": "python",
   "nbconvert_exporter": "python",
   "pygments_lexer": "ipython3",
   "version": "3.10.8"
  }
 },
 "nbformat": 4,
 "nbformat_minor": 5
}
