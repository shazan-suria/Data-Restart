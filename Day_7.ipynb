{
 "cells": [
  {
   "cell_type": "code",
   "execution_count": 1,
   "id": "d6a974b0-a5b5-4585-b4fa-576bec277f67",
   "metadata": {},
   "outputs": [],
   "source": [
    "# Data Day 7\n",
    "# OOPS"
   ]
  },
  {
   "cell_type": "code",
   "execution_count": 2,
   "id": "1337b146-2e36-4f9a-8d1b-6d1943890083",
   "metadata": {},
   "outputs": [],
   "source": [
    "class test:\n",
    "    pass"
   ]
  },
  {
   "cell_type": "code",
   "execution_count": 3,
   "id": "4c0c55be-09a9-40f1-aaeb-686bf75190b5",
   "metadata": {},
   "outputs": [],
   "source": [
    "a=test()"
   ]
  },
  {
   "cell_type": "code",
   "execution_count": 4,
   "id": "7f3ca451-9a0d-45b3-85ea-e9ebe74660ab",
   "metadata": {},
   "outputs": [
    {
     "data": {
      "text/plain": [
       "__main__.test"
      ]
     },
     "execution_count": 4,
     "metadata": {},
     "output_type": "execute_result"
    }
   ],
   "source": [
    "type(a)"
   ]
  },
  {
   "cell_type": "code",
   "execution_count": 5,
   "id": "8ea9b536-8491-458a-a26a-fb368dca33c9",
   "metadata": {},
   "outputs": [
    {
     "name": "stdout",
     "output_type": "stream",
     "text": [
      "<class '__main__.test'>\n"
     ]
    }
   ],
   "source": [
    "print(type(a))"
   ]
  },
  {
   "cell_type": "code",
   "execution_count": 6,
   "id": "81a6f624-9f2c-40d8-b3ac-6240bd63e758",
   "metadata": {},
   "outputs": [],
   "source": [
    "class pwskills:\n",
    "    def welcom_msg(self):\n",
    "        print(\"Welcome to pwskills\")"
   ]
  },
  {
   "cell_type": "code",
   "execution_count": 7,
   "id": "8f3c9121-9b9e-4c65-a80a-fdfed8322549",
   "metadata": {},
   "outputs": [],
   "source": [
    "rohan=pwskills()"
   ]
  },
  {
   "cell_type": "code",
   "execution_count": 8,
   "id": "ec48b4dd-66b6-46e6-9a97-7de1a19011da",
   "metadata": {},
   "outputs": [
    {
     "name": "stdout",
     "output_type": "stream",
     "text": [
      "Welcome to pwskills\n"
     ]
    }
   ],
   "source": [
    "rohan.welcom_msg()"
   ]
  },
  {
   "cell_type": "code",
   "execution_count": 9,
   "id": "8b51e1fe-10fb-4f7f-ab06-21cb5aa3e968",
   "metadata": {},
   "outputs": [],
   "source": [
    "class pw1():\n",
    "    \n",
    "    def __init__(self,phone_num,email,stu_id):\n",
    "        self.phone_num=phone_num\n",
    "        self.email=email\n",
    "        self.stu_id=stu_id\n",
    "    def return_stu_data(self):\n",
    "        return self.stu_id,self.email,self.phone_num"
   ]
  },
  {
   "cell_type": "code",
   "execution_count": 10,
   "id": "2a321a3f-7135-4af3-b2db-0fc6d139cf61",
   "metadata": {},
   "outputs": [],
   "source": [
    "abc=pw1(2536476854,'abc@gmail.com',101)"
   ]
  },
  {
   "cell_type": "code",
   "execution_count": 11,
   "id": "0bd775fb-3a60-479d-a7ca-5f5122f52466",
   "metadata": {},
   "outputs": [
    {
     "data": {
      "text/plain": [
       "(101, 'abc@gmail.com', 2536476854)"
      ]
     },
     "execution_count": 11,
     "metadata": {},
     "output_type": "execute_result"
    }
   ],
   "source": [
    "abc.return_stu_data()"
   ]
  }
 ],
 "metadata": {
  "kernelspec": {
   "display_name": "Python 3 (ipykernel)",
   "language": "python",
   "name": "python3"
  },
  "language_info": {
   "codemirror_mode": {
    "name": "ipython",
    "version": 3
   },
   "file_extension": ".py",
   "mimetype": "text/x-python",
   "name": "python",
   "nbconvert_exporter": "python",
   "pygments_lexer": "ipython3",
   "version": "3.10.8"
  }
 },
 "nbformat": 4,
 "nbformat_minor": 5
}
