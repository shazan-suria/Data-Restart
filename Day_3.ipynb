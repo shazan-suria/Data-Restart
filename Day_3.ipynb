{
 "cells": [
  {
   "cell_type": "code",
   "execution_count": 1,
   "id": "282afd23-f2b9-44fc-8ef0-8931d017e3b1",
   "metadata": {},
   "outputs": [],
   "source": [
    "# data day 3\n",
    "# Dictionary\n",
    "# Del function\n",
    "# Dictionary function\n",
    "# Control statement\n",
    "# input function\n",
    "# looping statement\n",
    "# for loop"
   ]
  },
  {
   "cell_type": "code",
   "execution_count": 2,
   "id": "0ea583dd-f5b3-4dc5-bd50-4dcd81eb13de",
   "metadata": {},
   "outputs": [],
   "source": [
    "d={}"
   ]
  },
  {
   "cell_type": "code",
   "execution_count": 3,
   "id": "6fb936bb-7ba6-431f-bda0-3f18e3e88dfa",
   "metadata": {},
   "outputs": [
    {
     "data": {
      "text/plain": [
       "dict"
      ]
     },
     "execution_count": 3,
     "metadata": {},
     "output_type": "execute_result"
    }
   ],
   "source": [
    "type(d)"
   ]
  },
  {
   "cell_type": "code",
   "execution_count": 4,
   "id": "915eaf0f-870b-4172-8df5-f0fad1c0d103",
   "metadata": {},
   "outputs": [],
   "source": [
    "d1={'name':'shazan'}"
   ]
  },
  {
   "cell_type": "code",
   "execution_count": 5,
   "id": "0105022a-ed60-402f-ba12-0b549491191a",
   "metadata": {},
   "outputs": [
    {
     "data": {
      "text/plain": [
       "{'name': 'shazan'}"
      ]
     },
     "execution_count": 5,
     "metadata": {},
     "output_type": "execute_result"
    }
   ],
   "source": [
    "d1"
   ]
  },
  {
   "cell_type": "code",
   "execution_count": 6,
   "id": "93e89c9e-1379-4215-96f4-035701fba507",
   "metadata": {},
   "outputs": [],
   "source": [
    "d2={'name':'abc','email':'abc@gmail.com','number':9123215432}"
   ]
  },
  {
   "cell_type": "code",
   "execution_count": 7,
   "id": "66b06e23-39bc-4634-b5b0-97b1bed3ef2d",
   "metadata": {},
   "outputs": [
    {
     "data": {
      "text/plain": [
       "{'name': 'abc', 'email': 'abc@gmail.com', 'number': 9123215432}"
      ]
     },
     "execution_count": 7,
     "metadata": {},
     "output_type": "execute_result"
    }
   ],
   "source": [
    "d2"
   ]
  },
  {
   "cell_type": "code",
   "execution_count": 8,
   "id": "6ce8ad8f-8e3d-49bc-970e-dd128c9b2865",
   "metadata": {},
   "outputs": [
    {
     "data": {
      "text/plain": [
       "'abc'"
      ]
     },
     "execution_count": 8,
     "metadata": {},
     "output_type": "execute_result"
    }
   ],
   "source": [
    "d2['name']"
   ]
  },
  {
   "cell_type": "code",
   "execution_count": 9,
   "id": "c6077959-a49c-4b75-9484-879d26347133",
   "metadata": {},
   "outputs": [
    {
     "data": {
      "text/plain": [
       "'abc@gmail.com'"
      ]
     },
     "execution_count": 9,
     "metadata": {},
     "output_type": "execute_result"
    }
   ],
   "source": [
    "d2['email']"
   ]
  },
  {
   "cell_type": "code",
   "execution_count": 10,
   "id": "5296eba7-657c-41f7-ba29-0eb2250f0823",
   "metadata": {},
   "outputs": [
    {
     "data": {
      "text/plain": [
       "9123215432"
      ]
     },
     "execution_count": 10,
     "metadata": {},
     "output_type": "execute_result"
    }
   ],
   "source": [
    "d2['number']"
   ]
  },
  {
   "cell_type": "code",
   "execution_count": 11,
   "id": "83a13df0-6fc2-464c-80df-c59dc3a054d7",
   "metadata": {},
   "outputs": [],
   "source": [
    "d2['class']='data science masters'"
   ]
  },
  {
   "cell_type": "code",
   "execution_count": 12,
   "id": "2da31d0d-d0fc-4090-bec3-b17570c0729d",
   "metadata": {},
   "outputs": [
    {
     "data": {
      "text/plain": [
       "{'name': 'abc',\n",
       " 'email': 'abc@gmail.com',\n",
       " 'number': 9123215432,\n",
       " 'class': 'data science masters'}"
      ]
     },
     "execution_count": 12,
     "metadata": {},
     "output_type": "execute_result"
    }
   ],
   "source": [
    "d2"
   ]
  },
  {
   "cell_type": "code",
   "execution_count": 13,
   "id": "d622a99c-d15b-44bd-bb2b-3e9ef22fd173",
   "metadata": {},
   "outputs": [],
   "source": [
    "del d"
   ]
  },
  {
   "cell_type": "code",
   "execution_count": 14,
   "id": "0d029cce-5143-4ee8-9cb6-bcb2eada103f",
   "metadata": {},
   "outputs": [
    {
     "data": {
      "text/plain": [
       "dict_keys(['name', 'email', 'number', 'class'])"
      ]
     },
     "execution_count": 14,
     "metadata": {},
     "output_type": "execute_result"
    }
   ],
   "source": [
    "d2.keys()"
   ]
  },
  {
   "cell_type": "code",
   "execution_count": 15,
   "id": "0678c4aa-cdfa-414c-9369-1865d04d927f",
   "metadata": {},
   "outputs": [
    {
     "data": {
      "text/plain": [
       "['name', 'email', 'number', 'class']"
      ]
     },
     "execution_count": 15,
     "metadata": {},
     "output_type": "execute_result"
    }
   ],
   "source": [
    "list(d2.keys())"
   ]
  },
  {
   "cell_type": "code",
   "execution_count": 16,
   "id": "bfa03d7b-560e-4328-afdb-a81b1464b378",
   "metadata": {},
   "outputs": [
    {
     "data": {
      "text/plain": [
       "dict_values(['abc', 'abc@gmail.com', 9123215432, 'data science masters'])"
      ]
     },
     "execution_count": 16,
     "metadata": {},
     "output_type": "execute_result"
    }
   ],
   "source": [
    "d2.values()"
   ]
  },
  {
   "cell_type": "code",
   "execution_count": 17,
   "id": "8d7baccf-2a93-4392-94e2-9edb3b5fadae",
   "metadata": {},
   "outputs": [
    {
     "data": {
      "text/plain": [
       "'shazan'"
      ]
     },
     "execution_count": 17,
     "metadata": {},
     "output_type": "execute_result"
    }
   ],
   "source": [
    "d1.pop('name')"
   ]
  },
  {
   "cell_type": "code",
   "execution_count": 18,
   "id": "dca7b1a5-a94b-4f56-aa29-82a13d2f5ae0",
   "metadata": {},
   "outputs": [
    {
     "name": "stdin",
     "output_type": "stream",
     "text": [
      "enter your marks 67\n"
     ]
    },
    {
     "name": "stdout",
     "output_type": "stream",
     "text": [
      "you will be the part of A1 batch\n"
     ]
    }
   ],
   "source": [
    "marks=int(input('enter your marks'))\n",
    "if marks >=80 :\n",
    "    print(\"you will be the part of A0 batch\")\n",
    "elif marks >=60 and marks < 80:\n",
    "    print(\"you will be the part of A1 batch\")\n",
    "elif marks >40 and marks <60:\n",
    "    print(\"you will be the part of A2 batch\")\n",
    "else:\n",
    "    print(\"you will be the part of A3 batch\")"
   ]
  },
  {
   "cell_type": "code",
   "execution_count": 19,
   "id": "4d590d96-4459-49cb-9811-89e85982e3a3",
   "metadata": {},
   "outputs": [],
   "source": [
    "l=[1,2,3,4,5,6,7,8]"
   ]
  },
  {
   "cell_type": "code",
   "execution_count": 20,
   "id": "5b5984fb-f20f-41e8-872f-263ce3f2de4e",
   "metadata": {},
   "outputs": [],
   "source": [
    "li=[]"
   ]
  },
  {
   "cell_type": "code",
   "execution_count": 21,
   "id": "e0c342c2-c2e9-4304-b388-790e7fac88be",
   "metadata": {},
   "outputs": [],
   "source": [
    "for i in l:\n",
    "    li.append(i+1)"
   ]
  },
  {
   "cell_type": "code",
   "execution_count": 22,
   "id": "3d00ac6d-2c07-4a1f-91bb-d2eefcaf1400",
   "metadata": {},
   "outputs": [
    {
     "data": {
      "text/plain": [
       "[2, 3, 4, 5, 6, 7, 8, 9]"
      ]
     },
     "execution_count": 22,
     "metadata": {},
     "output_type": "execute_result"
    }
   ],
   "source": [
    "li"
   ]
  },
  {
   "cell_type": "code",
   "execution_count": 23,
   "id": "125a03e3-03b8-491f-8c5b-fa0480b2e849",
   "metadata": {},
   "outputs": [],
   "source": [
    "l2=[1,2,3,4,3,'abc','def',345,'hfyt']"
   ]
  },
  {
   "cell_type": "code",
   "execution_count": 24,
   "id": "efa41f5d-d326-4015-b5dc-94d39db22ce8",
   "metadata": {},
   "outputs": [],
   "source": [
    "l3=[]\n",
    "l4=[]\n",
    "for i in l2:\n",
    "    if(type(i)==str):\n",
    "        l3.append(i)\n",
    "    else:\n",
    "        l4.append(i)"
   ]
  },
  {
   "cell_type": "code",
   "execution_count": 25,
   "id": "2f622506-5405-4900-aa8c-8c4c63ac3362",
   "metadata": {},
   "outputs": [
    {
     "data": {
      "text/plain": [
       "['abc', 'def', 'hfyt']"
      ]
     },
     "execution_count": 25,
     "metadata": {},
     "output_type": "execute_result"
    }
   ],
   "source": [
    "l3"
   ]
  },
  {
   "cell_type": "code",
   "execution_count": 26,
   "id": "4e737fa3-5184-4167-8456-071dc8caf815",
   "metadata": {},
   "outputs": [
    {
     "data": {
      "text/plain": [
       "[1, 2, 3, 4, 3, 345]"
      ]
     },
     "execution_count": 26,
     "metadata": {},
     "output_type": "execute_result"
    }
   ],
   "source": [
    "l4"
   ]
  }
 ],
 "metadata": {
  "kernelspec": {
   "display_name": "Python 3 (ipykernel)",
   "language": "python",
   "name": "python3"
  },
  "language_info": {
   "codemirror_mode": {
    "name": "ipython",
    "version": 3
   },
   "file_extension": ".py",
   "mimetype": "text/x-python",
   "name": "python",
   "nbconvert_exporter": "python",
   "pygments_lexer": "ipython3",
   "version": "3.10.8"
  }
 },
 "nbformat": 4,
 "nbformat_minor": 5
}
